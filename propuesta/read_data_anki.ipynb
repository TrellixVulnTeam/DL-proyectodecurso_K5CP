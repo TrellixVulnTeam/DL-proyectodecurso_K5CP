{
 "cells": [
  {
   "cell_type": "markdown",
   "metadata": {},
   "source": [
    "http://www.manythings.org/anki/"
   ]
  },
  {
   "cell_type": "code",
   "execution_count": 1,
   "metadata": {
    "collapsed": true
   },
   "outputs": [],
   "source": [
    "import os, spacy, pickle\n",
    "import numpy as np\n",
    "from time import time\n",
    "from torchtext import data\n",
    "from torchtext import datasets"
   ]
  },
  {
   "cell_type": "markdown",
   "metadata": {},
   "source": [
    "# Build dataset"
   ]
  },
  {
   "cell_type": "code",
   "execution_count": 2,
   "metadata": {},
   "outputs": [
    {
     "name": "stdout",
     "output_type": "stream",
     "text": [
      "\n",
      "\u001b[93m    Warning: no model found for 'es'\u001b[0m\n",
      "\n",
      "    Only loading the 'es' tokenizer.\n",
      "\n",
      "\n",
      "\u001b[93m    Warning: no model found for 'en'\u001b[0m\n",
      "\n",
      "    Only loading the 'en' tokenizer.\n",
      "\n",
      "Building dataset...\n",
      "Elapsed: 10.17s\n",
      "\n",
      "dataset size: 114022\n",
      "examples:\n",
      "{'en': ['we', 'like', 'him', '.'], 'es': ['él', 'nos', 'agrada', '.']}\n",
      "{'en': ['his', 'head', 'ached', '.'], 'es': ['le', 'dolía', 'la', 'cabeza', '.']}\n",
      "\n",
      "Most common on ES vocabulary:\n",
      "[('.', 98820), ('de', 22274), ('que', 20415), ('a', 19901), ('no', 19194), ('tom', 18815), ('la', 17641), ('el', 15238), ('?', 14929), ('¿', 14920)]\n",
      "\n",
      "Most common on EN vocabulary:\n",
      "[('.', 99317), ('i', 32669), ('the', 27856), ('to', 25513), ('you', 22629), ('tom', 19805), ('a', 17490), ('is', 14982), ('?', 14910), (\"n't\", 13114)]\n",
      "\n",
      "Saved on: data/dataset.pkl\n"
     ]
    }
   ],
   "source": [
    "path = '/home/rhermoza/data/translation/spa-eng/spa.txt'\n",
    "out_path = 'data/dataset.pkl'\n",
    "spacy_es = spacy.load('es')\n",
    "spacy_en = spacy.load('en')\n",
    "\n",
    "def tokenize_es(text):\n",
    "    return [tok.text for tok in spacy_es.tokenizer(text)]\n",
    "\n",
    "def tokenize_en(text):\n",
    "    return [tok.text for tok in spacy_en.tokenizer(text)]\n",
    "\n",
    "ES = data.Field(tokenize=tokenize_es, lower=True)\n",
    "EN = data.Field(tokenize=tokenize_en, lower=True,\n",
    "                init_token='<sos>', eos_token='<eos>')\n",
    "\n",
    "t0 = time()\n",
    "print('Building dataset...')\n",
    "dataset = data.TabularDataset(path, format='tsv' , fields=[('en', EN), ('es', ES)])\n",
    "ES.build_vocab(dataset.es)\n",
    "EN.build_vocab(dataset.en)\n",
    "print('Elapsed: %.2fs\\n' % (time() - t0))\n",
    "print(f'dataset size: {len(dataset)}')\n",
    "print('examples:')\n",
    "print(vars(dataset[2000]))\n",
    "print(vars(dataset[5000]))\n",
    "print('\\nMost common on ES vocabulary:')\n",
    "print(ES.vocab.freqs.most_common(10))\n",
    "print('\\nMost common on EN vocabulary:')\n",
    "print(EN.vocab.freqs.most_common(10))\n",
    "\n",
    "with open(out_path, 'wb') as f:\n",
    "    pickle.dump(dataset.examples, f)\n",
    "    \n",
    "print('\\nSaved on: ' + out_path)"
   ]
  },
  {
   "cell_type": "code",
   "execution_count": 3,
   "metadata": {},
   "outputs": [
    {
     "name": "stdout",
     "output_type": "stream",
     "text": [
      "total 27M\r\n",
      "-rw-rw-r-- 1 rhermoza rhermoza 27M Oct 16 14:55 dataset.pkl\r\n"
     ]
    }
   ],
   "source": [
    "!ls -lh data"
   ]
  },
  {
   "cell_type": "markdown",
   "metadata": {},
   "source": [
    "# Load Dataset"
   ]
  },
  {
   "cell_type": "code",
   "execution_count": 4,
   "metadata": {},
   "outputs": [
    {
     "name": "stdout",
     "output_type": "stream",
     "text": [
      "\n",
      "\u001b[93m    Warning: no model found for 'es'\u001b[0m\n",
      "\n",
      "    Only loading the 'es' tokenizer.\n",
      "\n",
      "\n",
      "\u001b[93m    Warning: no model found for 'en'\u001b[0m\n",
      "\n",
      "    Only loading the 'en' tokenizer.\n",
      "\n",
      "dataset size: 114022\n",
      "examples:\n",
      "{'en': ['we', 'like', 'him', '.'], 'es': ['él', 'nos', 'agrada', '.']}\n",
      "{'en': ['his', 'head', 'ached', '.'], 'es': ['le', 'dolía', 'la', 'cabeza', '.']}\n",
      "\n",
      "Most common on ES vocabulary:\n",
      "[('.', 98820), ('de', 22274), ('que', 20415), ('a', 19901), ('no', 19194), ('tom', 18815), ('la', 17641), ('el', 15238), ('?', 14929), ('¿', 14920)]\n",
      "\n",
      "Most common on EN vocabulary:\n",
      "[('.', 99317), ('i', 32669), ('the', 27856), ('to', 25513), ('you', 22629), ('tom', 19805), ('a', 17490), ('is', 14982), ('?', 14910), (\"n't\", 13114)]\n"
     ]
    }
   ],
   "source": [
    "from iseq2seq.utils import load_anki_dataset\n",
    "\n",
    "out_path = 'data/dataset.pkl'\n",
    "dataset, ES, EN = load_anki_dataset(out_path)\n",
    "print(f'dataset size: {len(dataset)}')\n",
    "print('examples:')\n",
    "print(vars(dataset[2000]))\n",
    "print(vars(dataset[5000]))\n",
    "print('\\nMost common on ES vocabulary:')\n",
    "print(ES.vocab.freqs.most_common(10))\n",
    "print('\\nMost common on EN vocabulary:')\n",
    "print(EN.vocab.freqs.most_common(10))"
   ]
  },
  {
   "cell_type": "markdown",
   "metadata": {},
   "source": [
    "# Testing iterator"
   ]
  },
  {
   "cell_type": "code",
   "execution_count": 5,
   "metadata": {},
   "outputs": [
    {
     "data": {
      "text/plain": [
       "(torch.Size([9, 32]), torch.Size([12, 32]))"
      ]
     },
     "execution_count": 5,
     "metadata": {},
     "output_type": "execute_result"
    }
   ],
   "source": [
    "train_buckets = data.BucketIterator(dataset, 32, \n",
    "    sort_key=lambda x: data.interleave_keys(len(x.es), len(x.en)))\n",
    "train_iter = iter(train_buckets)\n",
    "x = next(train_iter)\n",
    "x.es.size(), x.en.size()"
   ]
  },
  {
   "cell_type": "code",
   "execution_count": 6,
   "metadata": {},
   "outputs": [
    {
     "name": "stdout",
     "output_type": "stream",
     "text": [
      "[ 11  15  71 341   5 266   3  52  10] | [ 2 47  8 96 23 70 68 19 65 12  3  1]\n",
      "¿ me puede ayudar a salir de aquí ? | <sos> can you help me get out of here ? <eos> <pad>\n",
      "[    7    41     9  2180     3 13653    34  2681     2] | [   2    9   52    6 1478   19 3532   33 2653    4    3    1]\n",
      "tom tiene el hábito de morderse las uñas . | <sos> tom has the habit of biting his nails . <eos> <pad>\n",
      "[   9  260 4329   36  149   12    9 4599    2] | [   2    6  924 1213    6  149   36    6 3109    4    3    1]\n",
      "el policía arrestó al hombre en el acto . | <sos> the policeman arrested the man on the spot . <eos> <pad>\n",
      "[   7   41 2114   32 2688    4   24  685    2] | [   2    9   52  401 7001   20   14   18  248    4    3    1]\n",
      "tom tiene dificultad para admitir que está equivocado . | <sos> tom has trouble admitting that he 's wrong . <eos> <pad>\n",
      "[   9  167    4   18 1706    6   13 1772    2] | [  2   6 110  14  18 752  11  38  33   4   3   1]\n",
      "el coche que él conduce no es suyo . | <sos> the car he 's driving is not his . <eos> <pad>\n",
      "[   8  180   44  464    3    7   45 1368    2] | [  2   6 212   7   9  18 133  21 775   4   3   1]\n",
      "la puerta del cuarto de tom estaba cerrada . | <sos> the door to tom 's room was closed . <eos> <pad>\n",
      "[183 125 727  32   9 644   3  86   2] | [   2    5   88   39  484   28  164   18 1060    4    3    1]\n",
      "debería estar estudiando para el examen de mañana . | <sos> i should be studying for tomorrow 's exam . <eos> <pad>\n",
      "[ 457   14 1323   53  507   32   38  558    2] | [  2   5 210  10 870  28  35 563 494   4   3   1]\n",
      "compré un bolígrafo como regalo para tu cumpleaños . | <sos> i bought a pen for your birthday present . <eos> <pad>\n",
      "[ 11 538  70  12 167 141  12 854  10] | [  2  88  29  49  80 110 181  80 928  12   3   1]\n",
      "¿ deberíamos ir en coche o en taxi ? | <sos> should we go by car or by taxi ? <eos> <pad>\n",
      "[ 94 455   4  58  16  30 486  74   2] | [ 2  5 47 82  8 61 85 43 26  4  3  1]\n",
      "ya veo que esto se te da bien . | <sos> i can see you 're good at this . <eos> <pad>\n"
     ]
    }
   ],
   "source": [
    "es_dict = {v:k for k,v in ES.vocab.stoi.items()}\n",
    "en_dict = {v:k for k,v in EN.vocab.stoi.items()}\n",
    "x_es = x.es.data.cpu().numpy()\n",
    "x_en = x.en.data.cpu().numpy()\n",
    "\n",
    "for i in range(10):\n",
    "    print(x_es[:, i], end=' | ')\n",
    "    print(x_en[:, i])\n",
    "    print(' '.join([es_dict[w] for w in x_es[:, i]]), end=' | ')\n",
    "    print(' '.join([en_dict[w] for w in x_en[:, i]]))\n"
   ]
  },
  {
   "cell_type": "code",
   "execution_count": null,
   "metadata": {
    "collapsed": true
   },
   "outputs": [],
   "source": []
  }
 ],
 "metadata": {
  "kernelspec": {
   "display_name": "Python 3",
   "language": "python",
   "name": "python3"
  },
  "language_info": {
   "codemirror_mode": {
    "name": "ipython",
    "version": 3
   },
   "file_extension": ".py",
   "mimetype": "text/x-python",
   "name": "python",
   "nbconvert_exporter": "python",
   "pygments_lexer": "ipython3",
   "version": "3.6.3"
  }
 },
 "nbformat": 4,
 "nbformat_minor": 2
}
