{
 "cells": [
  {
   "cell_type": "markdown",
   "metadata": {},
   "source": [
    "http://www.manythings.org/anki/"
   ]
  },
  {
   "cell_type": "code",
   "execution_count": 1,
   "metadata": {
    "collapsed": true
   },
   "outputs": [],
   "source": [
    "import os, spacy, pickle\n",
    "import numpy as np\n",
    "from time import time\n",
    "from torchtext import data\n",
    "from torchtext import datasets\n",
    "\n",
    "import matplotlib.pyplot as plt\n",
    "%matplotlib inline"
   ]
  },
  {
   "cell_type": "markdown",
   "metadata": {},
   "source": [
    "# Split data"
   ]
  },
  {
   "cell_type": "code",
   "execution_count": 2,
   "metadata": {},
   "outputs": [
    {
     "name": "stdout",
     "output_type": "stream",
     "text": [
      "102417 5689 5689\n"
     ]
    }
   ],
   "source": [
    "path = '/home/rhermoza/data/translation/spa-eng/spa.txt'\n",
    "out_train = '/home/rhermoza/data/translation/spa-eng/spa_train.txt'\n",
    "out_test = '/home/rhermoza/data/translation/spa-eng/spa_test.txt'\n",
    "out_validation = '/home/rhermoza/data/translation/spa-eng/spa_validation.txt'\n",
    "test = 0.05\n",
    "validation = 0.05\n",
    "max_length = 200\n",
    "\n",
    "with open(path) as f:\n",
    "    lines = f.readlines()\n",
    "\n",
    "# filter lines\n",
    "lines = [l for l in lines if len(l) <= max_length]\n",
    "\n",
    "# Divide datasets\n",
    "total_lines = len(lines)\n",
    "test_lines = int(total_lines * test)\n",
    "validation_lines = int(total_lines * validation)\n",
    "train_lines = total_lines - test_lines - validation_lines\n",
    "print(train_lines, test_lines, validation_lines)\n",
    "\n",
    "tidxs = np.random.choice(total_lines, test_lines+validation_lines, replace=False)\n",
    "idxs_train = [i for i in range(total_lines) if i not in tidxs]\n",
    "idxs_test = tidxs[:test_lines]\n",
    "idxs_validation = tidxs[test_lines:]"
   ]
  },
  {
   "cell_type": "code",
   "execution_count": 3,
   "metadata": {
    "collapsed": true
   },
   "outputs": [],
   "source": [
    "with open(out_train, 'w') as f:\n",
    "    for i in idxs_train:\n",
    "        f.writelines(lines[i])\n",
    "        \n",
    "with open(out_test, 'w') as f:\n",
    "    for i in idxs_test:\n",
    "        f.writelines(lines[i])\n",
    "        \n",
    "with open(out_validation, 'w') as f:\n",
    "    for i in idxs_validation:\n",
    "        f.writelines(lines[i])"
   ]
  },
  {
   "cell_type": "code",
   "execution_count": 4,
   "metadata": {},
   "outputs": [
    {
     "name": "stdout",
     "output_type": "stream",
     "text": [
      "total 15M\r\n",
      "-rw-rw-r-- 1 rhermoza rhermoza 376K Nov  1 18:47 spa_test.txt\r\n",
      "-rw-rw-r-- 1 rhermoza rhermoza 6.6M Nov  1 18:47 spa_train.txt\r\n",
      "-rw-r--r-- 1 rhermoza rhermoza 7.4M Sep 29 00:01 spa.txt\r\n",
      "-rw-rw-r-- 1 rhermoza rhermoza 378K Nov  1 18:47 spa_validation.txt\r\n"
     ]
    }
   ],
   "source": [
    "!ls -lh /home/rhermoza/data/translation/spa-eng/"
   ]
  },
  {
   "cell_type": "markdown",
   "metadata": {},
   "source": [
    "# Build dataset"
   ]
  },
  {
   "cell_type": "code",
   "execution_count": 5,
   "metadata": {},
   "outputs": [
    {
     "name": "stdout",
     "output_type": "stream",
     "text": [
      "\n",
      "\u001b[93m    Warning: no model found for 'es'\u001b[0m\n",
      "\n",
      "    Only loading the 'es' tokenizer.\n",
      "\n",
      "\n",
      "\u001b[93m    Warning: no model found for 'en'\u001b[0m\n",
      "\n",
      "    Only loading the 'en' tokenizer.\n",
      "\n",
      "Building dataset...\n",
      "Elapsed: 9.11s\n",
      "\n",
      "train size: 102417\n",
      "test size: 5689\n",
      "validation size: 5689\n",
      "examples:\n",
      "{'en': ['have', 'another', '.'], 'es': ['tomá', 'otro', '.']}\n",
      "{'en': ['leave', 'it', 'to', 'me', '.'], 'es': ['déjamelo', 'a', 'mí', '.']}\n",
      "\n",
      "Most common on ES vocabulary:\n",
      "[('.', 88715), ('de', 19732), ('que', 18177), ('a', 17807), ('no', 17178), ('tom', 16931), ('la', 15682), ('el', 13664), ('?', 13410), ('¿', 13402)]\n",
      "\n",
      "Most common on EN vocabulary:\n",
      "[('.', 89157), ('i', 29296), ('the', 24826), ('to', 22929), ('you', 20279), ('tom', 17811), ('a', 15686), ('is', 13489), ('?', 13396), (\"n't\", 11702)]\n",
      "\n",
      "Saved on: data/dataset.pkl\n"
     ]
    }
   ],
   "source": [
    "path = '/home/rhermoza/data/translation/spa-eng'\n",
    "out_path = 'data/dataset.pkl'\n",
    "spacy_es = spacy.load('es')\n",
    "spacy_en = spacy.load('en')\n",
    "\n",
    "def tokenize_es(text):\n",
    "    return [tok.text for tok in spacy_es.tokenizer(text)]\n",
    "\n",
    "def tokenize_en(text):\n",
    "    return [tok.text for tok in spacy_en.tokenizer(text)]\n",
    "\n",
    "ES = data.Field(tokenize=tokenize_es, lower=True)\n",
    "EN = data.Field(tokenize=tokenize_en, lower=True,\n",
    "                init_token='<sos>', eos_token='<eos>')\n",
    "\n",
    "t0 = time()\n",
    "print('Building dataset...')\n",
    "ds_train, ds_test, ds_val = data.TabularDataset.splits(path,\n",
    "                                               train='spa_train.txt',\n",
    "                                               test='spa_test.txt',\n",
    "                                               validation='spa_validation.txt',\n",
    "                                               format='tsv' , fields=[('en', EN), ('es', ES)])\n",
    "\n",
    "ES.build_vocab(ds_train.es, min_freq=3)\n",
    "EN.build_vocab(ds_train.en, min_freq=3)\n",
    "print('Elapsed: %.2fs\\n' % (time() - t0))\n",
    "print(f'train size: {len(ds_train)}')\n",
    "print(f'test size: {len(ds_test)}')\n",
    "print(f'validation size: {len(ds_val)}')\n",
    "print('examples:')\n",
    "print(vars(ds_train[2000]))\n",
    "print(vars(ds_train[5000]))\n",
    "print('\\nMost common on ES vocabulary:')\n",
    "print(ES.vocab.freqs.most_common(10))\n",
    "print('\\nMost common on EN vocabulary:')\n",
    "print(EN.vocab.freqs.most_common(10))\n",
    "\n",
    "out = {'train': ds_train.examples, 'test': ds_test.examples, 'val': ds_val.examples}\n",
    "\n",
    "with open(out_path, 'wb') as f:\n",
    "    pickle.dump(out, f)\n",
    "    \n",
    "print('\\nSaved on: ' + out_path)"
   ]
  },
  {
   "cell_type": "code",
   "execution_count": 6,
   "metadata": {},
   "outputs": [
    {
     "name": "stdout",
     "output_type": "stream",
     "text": [
      "total 27M\r\n",
      "-rw-rw-r-- 1 rhermoza rhermoza 27M Nov  1 18:47 dataset.pkl\r\n"
     ]
    }
   ],
   "source": [
    "!ls -lh data"
   ]
  },
  {
   "cell_type": "markdown",
   "metadata": {},
   "source": [
    "# Load Dataset"
   ]
  },
  {
   "cell_type": "code",
   "execution_count": 1,
   "metadata": {},
   "outputs": [
    {
     "name": "stdout",
     "output_type": "stream",
     "text": [
      "\n",
      "\u001b[93m    Warning: no model found for 'es'\u001b[0m\n",
      "\n",
      "    Only loading the 'es' tokenizer.\n",
      "\n",
      "\n",
      "\u001b[93m    Warning: no model found for 'en'\u001b[0m\n",
      "\n",
      "    Only loading the 'en' tokenizer.\n",
      "\n",
      "train size: 102417\n",
      "test size: 5689\n",
      "validation size: 5689\n",
      "examples:\n",
      "{'en': ['have', 'another', '.'], 'es': ['tomá', 'otro', '.']}\n",
      "{'en': ['leave', 'it', 'to', 'me', '.'], 'es': ['déjamelo', 'a', 'mí', '.']}\n",
      "\n",
      "Most common on ES vocabulary:\n",
      "[('.', 88715), ('de', 19732), ('que', 18177), ('a', 17807), ('no', 17178), ('tom', 16931), ('la', 15682), ('el', 13664), ('?', 13410), ('¿', 13402)]\n",
      "\n",
      "Most common on EN vocabulary:\n",
      "[('.', 89157), ('i', 29296), ('the', 24826), ('to', 22929), ('you', 20279), ('tom', 17811), ('a', 15686), ('is', 13489), ('?', 13396), (\"n't\", 11702)]\n"
     ]
    }
   ],
   "source": [
    "from iseq2seq.utils import load_anki_dataset\n",
    "\n",
    "out_path = 'data/dataset.pkl'\n",
    "ds_train, ds_test, ds_val, ES, EN = load_anki_dataset(out_path)\n",
    "print(f'train size: {len(ds_train)}')\n",
    "print(f'test size: {len(ds_test)}')\n",
    "print(f'validation size: {len(ds_val)}')\n",
    "print('examples:')\n",
    "print(vars(ds_train[2000]))\n",
    "print(vars(ds_train[5000]))\n",
    "print('\\nMost common on ES vocabulary:')\n",
    "print(ES.vocab.freqs.most_common(10))\n",
    "print('\\nMost common on EN vocabulary:')\n",
    "print(EN.vocab.freqs.most_common(10))"
   ]
  },
  {
   "cell_type": "markdown",
   "metadata": {},
   "source": [
    "# Testing iterator"
   ]
  },
  {
   "cell_type": "code",
   "execution_count": 2,
   "metadata": {},
   "outputs": [
    {
     "data": {
      "text/plain": [
       "(torch.Size([7, 32]),\n",
       " torch.Size([8, 32]),\n",
       " torch.Size([7, 500]),\n",
       " torch.Size([12, 500]))"
      ]
     },
     "execution_count": 2,
     "metadata": {},
     "output_type": "execute_result"
    }
   ],
   "source": [
    "from torchtext import data\n",
    "\n",
    "train_buckets = data.BucketIterator(ds_train, 32,\n",
    "    sort_key=lambda x: data.interleave_keys(len(x.es), len(x.en)))\n",
    "test_buckets = data.BucketIterator(ds_test, 500,\n",
    "    sort_key=lambda x: data.interleave_keys(len(x.es), len(x.en)))\n",
    "train_iter = iter(train_buckets)\n",
    "test_iter = iter(test_buckets)\n",
    "x_train = next(train_iter)\n",
    "x_test = next(test_iter)\n",
    "x_train.es.size(), x_train.en.size(), x_test.es.size(), x_test.en.size()"
   ]
  },
  {
   "cell_type": "code",
   "execution_count": 3,
   "metadata": {},
   "outputs": [
    {
     "name": "stdout",
     "output_type": "stream",
     "text": [
      "[  11  162   13   22  232 1006   10] | [  2  30  18  35 368 275  12   3]\n",
      "¿ cuál es su comida favorita ? | <sos> what 's your favorite food ? <eos>\n",
      "[  11   90   54  767   33 2693   10] | [   2   91   47    5   70 1524   12    3]\n",
      "¿ dónde puedo conseguir las entradas ? | <sos> where can i get tickets ? <eos>\n",
      "[  80 2686   14  701    3 9476    2] | [   2   29  196   10 3930  920    4    3]\n",
      "nos dimos un baño de lodo . | <sos> we took a mud bath . <eos>\n",
      "[ 24 271   3   7 306   0   2] | [   2    9   18  312   75 3325    4    3]\n",
      "los padres de tom estaban advertí . | <sos> tom 's parents were devastated . <eos>\n",
      "[ 28 579   5   7  21 611   2] | [  2   5 228   9  10 534   4   3]\n",
      "le di a tom una oportunidad . | <sos> i gave tom a chance . <eos>\n",
      "[813  18   7 942   8 115   2] | [   2    9 1444  120    6  319    4    3]\n",
      "finalmente , tom contó la verdad . | <sos> tom eventually told the truth . <eos>\n",
      "[  11   23   38 1643   12   51   10] | [  2  11  35 703  43 115  12   3]\n",
      "¿ está tu esposo en casa ? | <sos> is your husband at home ? <eos>\n",
      "[  11   29 4761  259  975   84   10] | [  2  30  75   8 133 240  12   3]\n",
      "¿ qué estabais haciendo vosotros dos ? | <sos> what were you two doing ? <eos>\n",
      "[2397    8  340   18   19   64    2] | [  2  87 307  36   6 350   4   3]\n",
      "enciende la televisión , por favor . | <sos> please turn on the tv . <eos>\n",
      "[  24 3474   69   24 7950 4489    2] | [   2 2099   31    6  996 4762    4    3]\n",
      "los médicos son los peores pacientes . | <sos> doctors are the worst patients . <eos>\n"
     ]
    }
   ],
   "source": [
    "es_dict = {v:k for k,v in ES.vocab.stoi.items()}\n",
    "en_dict = {v:k for k,v in EN.vocab.stoi.items()}\n",
    "x_es = x_train.es.data.cpu().numpy()\n",
    "x_en = x_train.en.data.cpu().numpy()\n",
    "\n",
    "for i in range(10):\n",
    "    print(x_es[:, i], end=' | ')\n",
    "    print(x_en[:, i])\n",
    "    print(' '.join([es_dict[w] for w in x_es[:, i]]), end=' | ')\n",
    "    print(' '.join([en_dict[w] for w in x_en[:, i]]))"
   ]
  },
  {
   "cell_type": "code",
   "execution_count": null,
   "metadata": {
    "collapsed": true
   },
   "outputs": [],
   "source": []
  }
 ],
 "metadata": {
  "kernelspec": {
   "display_name": "Python 3",
   "language": "python",
   "name": "python3"
  },
  "language_info": {
   "codemirror_mode": {
    "name": "ipython",
    "version": 3
   },
   "file_extension": ".py",
   "mimetype": "text/x-python",
   "name": "python",
   "nbconvert_exporter": "python",
   "pygments_lexer": "ipython3",
   "version": "3.6.3"
  }
 },
 "nbformat": 4,
 "nbformat_minor": 2
}
