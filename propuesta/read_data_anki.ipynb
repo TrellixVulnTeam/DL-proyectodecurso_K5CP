{
 "cells": [
  {
   "cell_type": "markdown",
   "metadata": {},
   "source": [
    "http://www.manythings.org/anki/"
   ]
  },
  {
   "cell_type": "code",
   "execution_count": 1,
   "metadata": {
    "collapsed": true
   },
   "outputs": [],
   "source": [
    "import os, spacy, pickle\n",
    "import numpy as np\n",
    "from time import time\n",
    "from torchtext import data\n",
    "from torchtext import datasets"
   ]
  },
  {
   "cell_type": "markdown",
   "metadata": {},
   "source": [
    "# Split data"
   ]
  },
  {
   "cell_type": "code",
   "execution_count": 43,
   "metadata": {},
   "outputs": [],
   "source": [
    "path = '/home/rhermoza/data/translation/spa-eng/spa.txt'\n",
    "out_train = '/home/rhermoza/data/translation/spa-eng/spa_train.txt'\n",
    "out_test = '/home/rhermoza/data/translation/spa-eng/spa_test.txt'\n",
    "test = 0.1\n",
    "\n",
    "with open(path) as f:\n",
    "    lines = f.readlines()\n",
    "\n",
    "total_lines = len(lines)\n",
    "test_lines = int(total_lines * test)\n",
    "train_lines = total_lines - test_lines\n",
    "train_lines, test_lines\n",
    "\n",
    "idxs_test = np.random.choice(total_lines, test_lines, replace=False)\n",
    "idxs_train = [i for i in range(total_lines) if i not in idxs_test]\n",
    "\n",
    "with open(out_train, 'w') as f:\n",
    "    for i in idxs_train:\n",
    "        f.writelines(lines[i])\n",
    "        \n",
    "with open(out_test, 'w') as f:\n",
    "    for i in idxs_test:\n",
    "        f.writelines(lines[i])"
   ]
  },
  {
   "cell_type": "code",
   "execution_count": 44,
   "metadata": {},
   "outputs": [
    {
     "name": "stdout",
     "output_type": "stream",
     "text": [
      "total 15M\r\n",
      "-rw-rw-r-- 1 rhermoza rhermoza 763K Oct 16 20:24 spa_test.txt\r\n",
      "-rw-rw-r-- 1 rhermoza rhermoza 6.7M Oct 16 20:24 spa_train.txt\r\n",
      "-rw-r--r-- 1 rhermoza rhermoza 7.4M Sep 29 00:01 spa.txt\r\n"
     ]
    }
   ],
   "source": [
    "!ls -lh /home/rhermoza/data/translation/spa-eng/"
   ]
  },
  {
   "cell_type": "markdown",
   "metadata": {},
   "source": [
    "# Build dataset"
   ]
  },
  {
   "cell_type": "code",
   "execution_count": 51,
   "metadata": {},
   "outputs": [
    {
     "name": "stdout",
     "output_type": "stream",
     "text": [
      "\n",
      "\u001b[93m    Warning: no model found for 'es'\u001b[0m\n",
      "\n",
      "    Only loading the 'es' tokenizer.\n",
      "\n",
      "\n",
      "\u001b[93m    Warning: no model found for 'en'\u001b[0m\n",
      "\n",
      "    Only loading the 'en' tokenizer.\n",
      "\n",
      "Building dataset...\n",
      "Elapsed: 9.43s\n",
      "\n",
      "train size: 102620\n",
      "test size: 11402\n",
      "examples:\n",
      "{'en': ['go', 'on', 'inside', '.'], 'es': ['ve', 'adentro', '.']}\n",
      "{'en': ['it', \"'s\", 'not', 'funny', '.'], 'es': ['no', 'es', 'divertido', '.']}\n",
      "\n",
      "Most common on ES vocabulary:\n",
      "[('.', 88950), ('de', 19994), ('que', 18297), ('a', 17861), ('no', 17282), ('tom', 16907), ('la', 15808), ('el', 13731), ('?', 13438), ('¿', 13428)]\n",
      "\n",
      "Most common on EN vocabulary:\n",
      "[('.', 89390), ('i', 29382), ('the', 25015), ('to', 22940), ('you', 20325), ('tom', 17797), ('a', 15674), ('is', 13497), ('?', 13422), (\"n't\", 11755)]\n",
      "\n",
      "Saved on: data/dataset.pkl\n"
     ]
    }
   ],
   "source": [
    "path = '/home/rhermoza/data/translation/spa-eng/spa'\n",
    "out_path = 'data/dataset.pkl'\n",
    "spacy_es = spacy.load('es')\n",
    "spacy_en = spacy.load('en')\n",
    "\n",
    "def tokenize_es(text):\n",
    "    return [tok.text for tok in spacy_es.tokenizer(text)]\n",
    "\n",
    "def tokenize_en(text):\n",
    "    return [tok.text for tok in spacy_en.tokenizer(text)]\n",
    "\n",
    "ES = data.Field(tokenize=tokenize_es, lower=True)\n",
    "EN = data.Field(tokenize=tokenize_en, lower=True,\n",
    "                init_token='<sos>', eos_token='<eos>')\n",
    "\n",
    "t0 = time()\n",
    "print('Building dataset...')\n",
    "ds_train, ds_test = data.TabularDataset.splits(path, train='_train.txt', test='_test.txt',\n",
    "                                               format='tsv' , fields=[('en', EN), ('es', ES)])\n",
    "ES.build_vocab(ds_train.es)\n",
    "EN.build_vocab(ds_train.en)\n",
    "print('Elapsed: %.2fs\\n' % (time() - t0))\n",
    "print(f'train size: {len(ds_train)}\\ntest size: {len(ds_test)}')\n",
    "print('examples:')\n",
    "print(vars(ds_train[2000]))\n",
    "print(vars(ds_train[5000]))\n",
    "print('\\nMost common on ES vocabulary:')\n",
    "print(ES.vocab.freqs.most_common(10))\n",
    "print('\\nMost common on EN vocabulary:')\n",
    "print(EN.vocab.freqs.most_common(10))\n",
    "\n",
    "out = {'train': ds_train.examples, 'test': ds_test.examples}\n",
    "\n",
    "with open(out_path, 'wb') as f:\n",
    "    pickle.dump(out, f)\n",
    "    \n",
    "print('\\nSaved on: ' + out_path)"
   ]
  },
  {
   "cell_type": "code",
   "execution_count": 3,
   "metadata": {},
   "outputs": [
    {
     "name": "stdout",
     "output_type": "stream",
     "text": [
      "total 27M\r\n",
      "-rw-rw-r-- 1 rhermoza rhermoza 27M Oct 16 14:55 dataset.pkl\r\n"
     ]
    }
   ],
   "source": [
    "!ls -lh data"
   ]
  },
  {
   "cell_type": "markdown",
   "metadata": {},
   "source": [
    "# Load Dataset"
   ]
  },
  {
   "cell_type": "code",
   "execution_count": 79,
   "metadata": {},
   "outputs": [
    {
     "name": "stdout",
     "output_type": "stream",
     "text": [
      "\n",
      "\u001b[93m    Warning: no model found for 'es'\u001b[0m\n",
      "\n",
      "    Only loading the 'es' tokenizer.\n",
      "\n",
      "\n",
      "\u001b[93m    Warning: no model found for 'en'\u001b[0m\n",
      "\n",
      "    Only loading the 'en' tokenizer.\n",
      "\n",
      "train size: 102620\n",
      "test size: 11402\n",
      "examples:\n",
      "{'en': ['go', 'on', 'inside', '.'], 'es': ['ve', 'adentro', '.']}\n",
      "{'en': ['it', \"'s\", 'not', 'funny', '.'], 'es': ['no', 'es', 'divertido', '.']}\n",
      "\n",
      "Most common on ES vocabulary:\n",
      "[('.', 88950), ('de', 19994), ('que', 18297), ('a', 17861), ('no', 17282), ('tom', 16907), ('la', 15808), ('el', 13731), ('?', 13438), ('¿', 13428)]\n",
      "\n",
      "Most common on EN vocabulary:\n",
      "[('.', 89390), ('i', 29382), ('the', 25015), ('to', 22940), ('you', 20325), ('tom', 17797), ('a', 15674), ('is', 13497), ('?', 13422), (\"n't\", 11755)]\n"
     ]
    }
   ],
   "source": [
    "from iseq2seq.utils import load_anki_dataset\n",
    "\n",
    "out_path = 'data/dataset.pkl'\n",
    "ds_train, ds_test, ES, EN = load_anki_dataset(out_path)\n",
    "print(f'train size: {len(ds_train)}\\ntest size: {len(ds_test)}')\n",
    "print('examples:')\n",
    "print(vars(ds_train[2000]))\n",
    "print(vars(ds_train[5000]))\n",
    "print('\\nMost common on ES vocabulary:')\n",
    "print(ES.vocab.freqs.most_common(10))\n",
    "print('\\nMost common on EN vocabulary:')\n",
    "print(EN.vocab.freqs.most_common(10))"
   ]
  },
  {
   "cell_type": "markdown",
   "metadata": {},
   "source": [
    "# Testing iterator"
   ]
  },
  {
   "cell_type": "code",
   "execution_count": 140,
   "metadata": {},
   "outputs": [
    {
     "data": {
      "text/plain": [
       "(torch.Size([7, 32]),\n",
       " torch.Size([11, 32]),\n",
       " torch.Size([7, 500]),\n",
       " torch.Size([8, 500]))"
      ]
     },
     "execution_count": 140,
     "metadata": {},
     "output_type": "execute_result"
    }
   ],
   "source": [
    "train_buckets = data.BucketIterator(ds_train, 32,\n",
    "    sort_key=lambda x: data.interleave_keys(len(x.es), len(x.en)))\n",
    "test_buckets = data.BucketIterator(ds_test, 500,\n",
    "    sort_key=lambda x: data.interleave_keys(len(x.es), len(x.en)))\n",
    "train_iter = iter(train_buckets)\n",
    "test_iter = iter(test_buckets)\n",
    "x_train = next(train_iter)\n",
    "x_test = next(test_iter)\n",
    "x_train.es.size(), x_train.en.size(), x_test.es.size(), x_test.en.size()"
   ]
  },
  {
   "cell_type": "code",
   "execution_count": 141,
   "metadata": {},
   "outputs": [
    {
     "name": "stdout",
     "output_type": "stream",
     "text": [
      "[ 99   4  71   5   8 253   2] | [  2   8  25   7  49   7   6 266   4   3   1]\n",
      "tienes que ir a la fiesta . | <sos> you have to go to the party . <eos> <pad>\n",
      "[7531   23  245  149    8 2488    2] | [   2    5 2012   23  280   36    6 2677    4    3    1]\n",
      "derramé mi café sobre la alfombra . | <sos> i spilled my coffee on the carpet . <eos> <pad>\n",
      "[   5  155    6   15 1053  732    2] | [  2  20  54  13 719 462   7  24   4   3   1]\n",
      "a mí no me suena estúpido . | <sos> that does n't sound stupid to me . <eos> <pad>\n",
      "[   7   91    4   16 1040  354    2] | [  2   9 127  20  14  21 728 273   4   3   1]\n",
      "tom dijo que se sentía cansado . | <sos> tom said that he was feeling tired . <eos> <pad>\n",
      "[  99    4 1465   38  998 1586    2] | [   2    8   25    7  867   35  357 3162    4    3    1]\n",
      "tienes que elegir tu propio destino . | <sos> you have to choose your own destiny . <eos> <pad>\n",
      "[    7    13   131   732    32 15434     2] | [   2    9   11  104  462    7   39 1218    4    3    1]\n",
      "tom es demasiado estúpido para asustarse . | <sos> tom is too stupid to be scared . <eos> <pad>\n",
      "[ 58  13 273  17  11 116  10] | [ 2 26 11 86 22 11 13 16 12  3  1]\n",
      "esto es bueno , ¿ verdad ? | <sos> this is good , is n't it ? <eos> <pad>\n",
      "[  48 3132   12   21  188 4235    2] | [   2   14   21 4203   43   10  955  136    4    3    1]\n",
      "fue educado en una escuela pública . | <sos> he was educated at a public school . <eos> <pad>\n",
      "[  49   56   20    4  102 1105    2] | [  2   5  25 186   5  77 222 157   4   3   1]\n",
      "tengo todo lo que siempre quise . | <sos> i have everything i 've ever wanted . <eos> <pad>\n",
      "[  11   29 2154   42    3  667   10] | [   2   30 2191   15    8   25   19  789   12    3    1]\n",
      "¿ qué impresión tiene de china ? | <sos> what impression do you have of china ? <eos> <pad>\n"
     ]
    }
   ],
   "source": [
    "es_dict = {v:k for k,v in ES.vocab.stoi.items()}\n",
    "en_dict = {v:k for k,v in EN.vocab.stoi.items()}\n",
    "x_es = x_train.es.data.cpu().numpy()\n",
    "x_en = x_train.en.data.cpu().numpy()\n",
    "\n",
    "for i in range(10):\n",
    "    print(x_es[:, i], end=' | ')\n",
    "    print(x_en[:, i])\n",
    "    print(' '.join([es_dict[w] for w in x_es[:, i]]), end=' | ')\n",
    "    print(' '.join([en_dict[w] for w in x_en[:, i]]))"
   ]
  },
  {
   "cell_type": "code",
   "execution_count": null,
   "metadata": {
    "collapsed": true
   },
   "outputs": [],
   "source": []
  }
 ],
 "metadata": {
  "kernelspec": {
   "display_name": "Python 3",
   "language": "python",
   "name": "python3"
  },
  "language_info": {
   "codemirror_mode": {
    "name": "ipython",
    "version": 3
   },
   "file_extension": ".py",
   "mimetype": "text/x-python",
   "name": "python",
   "nbconvert_exporter": "python",
   "pygments_lexer": "ipython3",
   "version": "3.6.3"
  }
 },
 "nbformat": 4,
 "nbformat_minor": 2
}
