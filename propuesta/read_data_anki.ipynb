{
 "cells": [
  {
   "cell_type": "markdown",
   "metadata": {},
   "source": [
    "http://www.manythings.org/anki/"
   ]
  },
  {
   "cell_type": "code",
   "execution_count": 1,
   "metadata": {
    "collapsed": true
   },
   "outputs": [],
   "source": [
    "import os, spacy, pickle\n",
    "import numpy as np\n",
    "from time import time\n",
    "from torchtext import data\n",
    "from torchtext import datasets"
   ]
  },
  {
   "cell_type": "markdown",
   "metadata": {},
   "source": [
    "# Split data"
   ]
  },
  {
   "cell_type": "code",
   "execution_count": 2,
   "metadata": {
    "collapsed": true
   },
   "outputs": [],
   "source": [
    "path = '/home/rhermoza/data/translation/spa-eng/spa.txt'\n",
    "out_train = '/home/rhermoza/data/translation/spa-eng/spa_train.txt'\n",
    "out_test = '/home/rhermoza/data/translation/spa-eng/spa_test.txt'\n",
    "test = 0.1\n",
    "\n",
    "with open(path) as f:\n",
    "    lines = f.readlines()\n",
    "\n",
    "total_lines = len(lines)\n",
    "test_lines = int(total_lines * test)\n",
    "train_lines = total_lines - test_lines\n",
    "train_lines, test_lines\n",
    "\n",
    "idxs_test = np.random.choice(total_lines, test_lines, replace=False)\n",
    "idxs_train = [i for i in range(total_lines) if i not in idxs_test]\n",
    "\n",
    "with open(out_train, 'w') as f:\n",
    "    for i in idxs_train:\n",
    "        f.writelines(lines[i])\n",
    "        \n",
    "with open(out_test, 'w') as f:\n",
    "    for i in idxs_test:\n",
    "        f.writelines(lines[i])"
   ]
  },
  {
   "cell_type": "code",
   "execution_count": 3,
   "metadata": {},
   "outputs": [
    {
     "name": "stdout",
     "output_type": "stream",
     "text": [
      "total 15M\r\n",
      "-rw-rw-r-- 1 rhermoza rhermoza 752K Oct 28 21:23 spa_test.txt\r\n",
      "-rw-rw-r-- 1 rhermoza rhermoza 6.7M Oct 28 21:23 spa_train.txt\r\n",
      "-rw-r--r-- 1 rhermoza rhermoza 7.4M Sep 29 00:01 spa.txt\r\n"
     ]
    }
   ],
   "source": [
    "!ls -lh /home/rhermoza/data/translation/spa-eng/"
   ]
  },
  {
   "cell_type": "markdown",
   "metadata": {},
   "source": [
    "# Build dataset"
   ]
  },
  {
   "cell_type": "code",
   "execution_count": 5,
   "metadata": {},
   "outputs": [
    {
     "name": "stdout",
     "output_type": "stream",
     "text": [
      "\n",
      "\u001b[93m    Warning: no model found for 'es'\u001b[0m\n",
      "\n",
      "    Only loading the 'es' tokenizer.\n",
      "\n",
      "\n",
      "\u001b[93m    Warning: no model found for 'en'\u001b[0m\n",
      "\n",
      "    Only loading the 'en' tokenizer.\n",
      "\n",
      "Building dataset...\n",
      "Elapsed: 9.39s\n",
      "\n",
      "train size: 102620\n",
      "test size: 11402\n",
      "examples:\n",
      "{'en': ['he', 'loved', 'her', '.'], 'es': ['él', 'la', 'quería', '.']}\n",
      "{'en': ['leave', 'us', 'alone', '.'], 'es': ['déjanos', 'solas', '.']}\n",
      "\n",
      "Most common on ES vocabulary:\n",
      "[('.', 88897), ('de', 20109), ('que', 18443), ('a', 17875), ('no', 17274), ('tom', 16932), ('la', 15942), ('el', 13728), ('?', 13482), ('¿', 13474)]\n",
      "\n",
      "Most common on EN vocabulary:\n",
      "[('.', 89361), ('i', 29478), ('the', 25108), ('to', 23010), ('you', 20509), ('tom', 17817), ('a', 15757), ('is', 13465), ('?', 13464), (\"n't\", 11828)]\n",
      "\n",
      "Saved on: data/dataset.pkl\n"
     ]
    }
   ],
   "source": [
    "path = '/home/rhermoza/data/translation/spa-eng'\n",
    "out_path = 'data/dataset.pkl'\n",
    "spacy_es = spacy.load('es')\n",
    "spacy_en = spacy.load('en')\n",
    "\n",
    "def tokenize_es(text):\n",
    "    return [tok.text for tok in spacy_es.tokenizer(text)]\n",
    "\n",
    "def tokenize_en(text):\n",
    "    return [tok.text for tok in spacy_en.tokenizer(text)]\n",
    "\n",
    "ES = data.Field(tokenize=tokenize_es, lower=True)\n",
    "EN = data.Field(tokenize=tokenize_en, lower=True,\n",
    "                init_token='<sos>', eos_token='<eos>')\n",
    "\n",
    "t0 = time()\n",
    "print('Building dataset...')\n",
    "ds_train, ds_test = data.TabularDataset.splits(path, train='spa_train.txt', test='spa_test.txt',\n",
    "                                               format='tsv' , fields=[('en', EN), ('es', ES)])\n",
    "ES.build_vocab(ds_train.es)\n",
    "EN.build_vocab(ds_train.en)\n",
    "print('Elapsed: %.2fs\\n' % (time() - t0))\n",
    "print(f'train size: {len(ds_train)}\\ntest size: {len(ds_test)}')\n",
    "print('examples:')\n",
    "print(vars(ds_train[2000]))\n",
    "print(vars(ds_train[5000]))\n",
    "print('\\nMost common on ES vocabulary:')\n",
    "print(ES.vocab.freqs.most_common(10))\n",
    "print('\\nMost common on EN vocabulary:')\n",
    "print(EN.vocab.freqs.most_common(10))\n",
    "\n",
    "out = {'train': ds_train.examples, 'test': ds_test.examples}\n",
    "\n",
    "with open(out_path, 'wb') as f:\n",
    "    pickle.dump(out, f)\n",
    "    \n",
    "print('\\nSaved on: ' + out_path)"
   ]
  },
  {
   "cell_type": "code",
   "execution_count": 6,
   "metadata": {},
   "outputs": [
    {
     "name": "stdout",
     "output_type": "stream",
     "text": [
      "total 27M\r\n",
      "-rw-rw-r-- 1 rhermoza rhermoza 27M Oct 28 21:24 dataset.pkl\r\n"
     ]
    }
   ],
   "source": [
    "!ls -lh data"
   ]
  },
  {
   "cell_type": "markdown",
   "metadata": {},
   "source": [
    "# Load Dataset"
   ]
  },
  {
   "cell_type": "code",
   "execution_count": 1,
   "metadata": {},
   "outputs": [
    {
     "name": "stdout",
     "output_type": "stream",
     "text": [
      "\n",
      "\u001b[93m    Warning: no model found for 'es'\u001b[0m\n",
      "\n",
      "    Only loading the 'es' tokenizer.\n",
      "\n",
      "\n",
      "\u001b[93m    Warning: no model found for 'en'\u001b[0m\n",
      "\n",
      "    Only loading the 'en' tokenizer.\n",
      "\n",
      "train size: 102620\n",
      "test size: 11402\n",
      "examples:\n",
      "{'en': ['he', 'loved', 'her', '.'], 'es': ['él', 'la', 'quería', '.']}\n",
      "{'en': ['leave', 'us', 'alone', '.'], 'es': ['déjanos', 'solas', '.']}\n",
      "\n",
      "Most common on ES vocabulary:\n",
      "[('.', 88897), ('de', 20109), ('que', 18443), ('a', 17875), ('no', 17274), ('tom', 16932), ('la', 15942), ('el', 13728), ('?', 13482), ('¿', 13474)]\n",
      "\n",
      "Most common on EN vocabulary:\n",
      "[('.', 89361), ('i', 29478), ('the', 25108), ('to', 23010), ('you', 20509), ('tom', 17817), ('a', 15757), ('is', 13465), ('?', 13464), (\"n't\", 11828)]\n"
     ]
    }
   ],
   "source": [
    "from iseq2seq.utils import load_anki_dataset\n",
    "\n",
    "out_path = 'data/dataset.pkl'\n",
    "ds_train, ds_test, ES, EN = load_anki_dataset(out_path)\n",
    "print(f'train size: {len(ds_train)}\\ntest size: {len(ds_test)}')\n",
    "print('examples:')\n",
    "print(vars(ds_train[2000]))\n",
    "print(vars(ds_train[5000]))\n",
    "print('\\nMost common on ES vocabulary:')\n",
    "print(ES.vocab.freqs.most_common(10))\n",
    "print('\\nMost common on EN vocabulary:')\n",
    "print(EN.vocab.freqs.most_common(10))"
   ]
  },
  {
   "cell_type": "markdown",
   "metadata": {},
   "source": [
    "# Testing iterator"
   ]
  },
  {
   "cell_type": "code",
   "execution_count": 4,
   "metadata": {},
   "outputs": [
    {
     "data": {
      "text/plain": [
       "(torch.Size([7, 32]),\n",
       " torch.Size([11, 32]),\n",
       " torch.Size([7, 500]),\n",
       " torch.Size([13, 500]))"
      ]
     },
     "execution_count": 4,
     "metadata": {},
     "output_type": "execute_result"
    }
   ],
   "source": [
    "from torchtext import data\n",
    "\n",
    "train_buckets = data.BucketIterator(ds_train, 32,\n",
    "    sort_key=lambda x: data.interleave_keys(len(x.es), len(x.en)))\n",
    "test_buckets = data.BucketIterator(ds_test, 500,\n",
    "    sort_key=lambda x: data.interleave_keys(len(x.es), len(x.en)))\n",
    "train_iter = iter(train_buckets)\n",
    "test_iter = iter(test_buckets)\n",
    "x_train = next(train_iter)\n",
    "x_test = next(test_iter)\n",
    "x_train.es.size(), x_train.en.size(), x_test.es.size(), x_test.en.size()"
   ]
  },
  {
   "cell_type": "code",
   "execution_count": 5,
   "metadata": {},
   "outputs": [
    {
     "name": "stdout",
     "output_type": "stream",
     "text": [
      "[ 369    9  237    3   42 1584    2] | [   2    5   45    6  230   19   26 1346    4    3    1]\n",
      "conozco el nombre de este animal . | <sos> i know the name of this animal . <eos> <pad>\n",
      "[  38 1717  811   73   32  153    2] | [   2   35 1700   52  339 1796    7   24    4    3    1]\n",
      "tu amistad vale mucho para mí . | <sos> your friendship has great value to me . <eos> <pad>\n",
      "[ 39 189   3 434 188  71   2] | [  2   5 101 190   7  81   8 181   4   3   1]\n",
      "estoy feliz de verte otra vez . | <sos> i am happy to see you again . <eos> <pad>\n",
      "[   7   24 7614  421 8246  278    2] | [   2    9   11 3387   10  313  835  654    4    3    1]\n",
      "tom está enfrentando unos serios problemas . | <sos> tom is facing a few serious problems . <eos> <pad>\n",
      "[  91    4   30 4760   12   47    2] | [  2   5  66   8  61 245  64  20   4   3   1]\n",
      "creo que te equivocas en eso . | <sos> i think you 're wrong about that . <eos> <pad>\n",
      "[  18   16 5991   36  160  431    2] | [   2   14   11 2480    7    6  134  357    4    3    1]\n",
      "él se opone al nuevo plan . | <sos> he is opposed to the new plan . <eos> <pad>\n",
      "[  9 149  15 809 146  51   2] | [   2    6  166 1372   24    7   25  114    4    3    1]\n",
      "el perro me siguió hasta casa . | <sos> the dog followed me to my home . <eos> <pad>\n",
      "[ 27 124   5 321   5 452   2] | [  2  27  11  84   7 285  57   7 408   4   3]\n",
      "ella va a aprender a conducir . | <sos> she is going to learn how to drive . <eos>\n",
      "[ 23 910   6 116  36 366   2] | [   2    5   15   13   49    7  137   36 1642    4    3]\n",
      "los domingos no voy al colegio . | <sos> i do n't go to school on sundays . <eos>\n",
      "[  6 116  36 366  12 731   2] | [  2   5  15  13  49   7 137  80 302   4   3]\n",
      "no voy al colegio en bus . | <sos> i do n't go to school by bus . <eos>\n"
     ]
    }
   ],
   "source": [
    "es_dict = {v:k for k,v in ES.vocab.stoi.items()}\n",
    "en_dict = {v:k for k,v in EN.vocab.stoi.items()}\n",
    "x_es = x_train.es.data.cpu().numpy()\n",
    "x_en = x_train.en.data.cpu().numpy()\n",
    "\n",
    "for i in range(10):\n",
    "    print(x_es[:, i], end=' | ')\n",
    "    print(x_en[:, i])\n",
    "    print(' '.join([es_dict[w] for w in x_es[:, i]]), end=' | ')\n",
    "    print(' '.join([en_dict[w] for w in x_en[:, i]]))"
   ]
  },
  {
   "cell_type": "code",
   "execution_count": null,
   "metadata": {
    "collapsed": true
   },
   "outputs": [],
   "source": []
  }
 ],
 "metadata": {
  "kernelspec": {
   "display_name": "Python 3",
   "language": "python",
   "name": "python3"
  },
  "language_info": {
   "codemirror_mode": {
    "name": "ipython",
    "version": 3
   },
   "file_extension": ".py",
   "mimetype": "text/x-python",
   "name": "python",
   "nbconvert_exporter": "python",
   "pygments_lexer": "ipython3",
   "version": "3.6.3"
  }
 },
 "nbformat": 4,
 "nbformat_minor": 2
}
