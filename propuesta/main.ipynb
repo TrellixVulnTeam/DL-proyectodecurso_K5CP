{
 "cells": [
  {
   "cell_type": "markdown",
   "metadata": {},
   "source": [
    "# Librerias"
   ]
  },
  {
   "cell_type": "code",
   "execution_count": 1,
   "metadata": {
    "collapsed": true
   },
   "outputs": [],
   "source": [
    "import torch, random, math\n",
    "import numpy as np\n",
    "import torch.nn.functional as F\n",
    "from tqdm import tnrange\n",
    "from time import time\n",
    "from torch import nn\n",
    "from torchtext import data\n",
    "from torch.autograd import Variable\n",
    "from iseq2seq.utils import load_anki_dataset, write_training_log\n",
    "\n",
    "import matplotlib.pyplot as plt\n",
    "%matplotlib inline"
   ]
  },
  {
   "cell_type": "markdown",
   "metadata": {},
   "source": [
    "# Cargar data"
   ]
  },
  {
   "cell_type": "code",
   "execution_count": 2,
   "metadata": {},
   "outputs": [
    {
     "name": "stdout",
     "output_type": "stream",
     "text": [
      "\n",
      "\u001b[93m    Warning: no model found for 'es'\u001b[0m\n",
      "\n",
      "    Only loading the 'es' tokenizer.\n",
      "\n",
      "\n",
      "\u001b[93m    Warning: no model found for 'en'\u001b[0m\n",
      "\n",
      "    Only loading the 'en' tokenizer.\n",
      "\n"
     ]
    },
    {
     "data": {
      "text/plain": [
       "801"
      ]
     },
     "execution_count": 2,
     "metadata": {},
     "output_type": "execute_result"
    }
   ],
   "source": [
    "batch_size = 128\n",
    "data_path = 'data/dataset.pkl'\n",
    "\n",
    "ds_train, ds_test, ds_val, ES, EN = load_anki_dataset(data_path)\n",
    "es_dict = {v:k for k,v in ES.vocab.stoi.items()}\n",
    "en_dict = {v:k for k,v in EN.vocab.stoi.items()}\n",
    "\n",
    "train_buckets = data.BucketIterator(ds_train, batch_size,\n",
    "    sort_key=lambda x: data.interleave_keys(len(x.es), len(x.en)))\n",
    "test_buckets = data.BucketIterator(ds_test, batch_size,\n",
    "    sort_key=lambda x: data.interleave_keys(len(x.es), len(x.en)))\n",
    "val_buckets = data.BucketIterator(ds_val, batch_size,\n",
    "    sort_key=lambda x: data.interleave_keys(len(x.es), len(x.en)))\n",
    "train_iter = iter(train_buckets)\n",
    "test_iter = iter(test_buckets)\n",
    "val_iter = iter(val_buckets)\n",
    "epoch_batchs_train = math.ceil(len(train_buckets.dataset.examples) / train_buckets.batch_size)\n",
    "epoch_batchs_train"
   ]
  },
  {
   "cell_type": "code",
   "execution_count": 3,
   "metadata": {},
   "outputs": [
    {
     "data": {
      "text/plain": [
       "25"
      ]
     },
     "execution_count": 3,
     "metadata": {},
     "output_type": "execute_result"
    }
   ],
   "source": [
    "train_max_length = 0\n",
    "\n",
    "for ex in train_buckets.dataset.examples:\n",
    "    train_max_length = max(train_max_length, len(ex.en))\n",
    "    \n",
    "train_max_length"
   ]
  },
  {
   "cell_type": "code",
   "execution_count": 4,
   "metadata": {},
   "outputs": [
    {
     "data": {
      "text/plain": [
       "(2, 3)"
      ]
     },
     "execution_count": 4,
     "metadata": {},
     "output_type": "execute_result"
    }
   ],
   "source": [
    "SOS_token = EN.vocab.stoi['<sos>']\n",
    "EOS_token = EN.vocab.stoi['<eos>']\n",
    "SOS_token, EOS_token"
   ]
  },
  {
   "cell_type": "markdown",
   "metadata": {},
   "source": [
    "# Encoder"
   ]
  },
  {
   "cell_type": "code",
   "execution_count": 5,
   "metadata": {
    "collapsed": true
   },
   "outputs": [],
   "source": [
    "class EncoderRNN(nn.Module):\n",
    "    def __init__(self, input_size, hidden_size, n_layers=1, bidirectional=False,\n",
    "                 embedding_dropout=0, rnn_dropout=0):\n",
    "        super(EncoderRNN, self).__init__()\n",
    "        self.input_size = input_size\n",
    "        self.hidden_size = hidden_size\n",
    "        self.n_layers = n_layers\n",
    "        self.bidirectional = bidirectional\n",
    "        self.embedding_dropout = embedding_dropout\n",
    "        self.rnn_dropout = rnn_dropout\n",
    "        \n",
    "        # Layers\n",
    "        self.embedding = nn.Embedding(input_size, hidden_size)\n",
    "        self.embedding_dropout = nn.Dropout(embedding_dropout)\n",
    "        self.rnn = nn.GRU(hidden_size, hidden_size, num_layers=n_layers,\n",
    "                          bidirectional=bidirectional, dropout=rnn_dropout)\n",
    "        \n",
    "    def forward(self, input, hidden):\n",
    "        embs = self.embedding(input)\n",
    "        embs = self.embedding_dropout(embs)\n",
    "        output, hidden = self.rnn(embs, hidden)\n",
    "        if self.bidirectional:\n",
    "            # En caso el encoder sea bidireccional, se suman los outputs\n",
    "            # en vez de concatenarlos.\n",
    "            output = output[:, :, :self.hidden_size] + output[:, : ,self.hidden_size:]\n",
    "        \n",
    "        return output, hidden"
   ]
  },
  {
   "cell_type": "markdown",
   "metadata": {},
   "source": [
    "# Attention Decoder"
   ]
  },
  {
   "cell_type": "code",
   "execution_count": 6,
   "metadata": {
    "collapsed": true
   },
   "outputs": [],
   "source": [
    "class Attention(nn.Module):\n",
    "    def __init__(self, method, hidden_size):\n",
    "        super(Attention, self).__init__()\n",
    "        self.method = method\n",
    "        self.hidden_size = hidden_size\n",
    "        \n",
    "        # metodos definidos en https://arxiv.org/pdf/1508.04025.pdf\n",
    "        assert method in ('dot', 'general', 'concat'), 'invalid attention method'\n",
    "        \n",
    "        # Layers\n",
    "        if self.method == 'general':\n",
    "            self.att = nn.Linear(self.hidden_size, hidden_size)\n",
    "\n",
    "        elif self.method == 'concat':\n",
    "            self.att = nn.Linear(self.hidden_size * 2, hidden_size)\n",
    "            self.v = nn.Parameter(torch.FloatTensor(1, hidden_size))\n",
    "\n",
    "    def forward(self, hidden, encoder_outputs):\n",
    "        max_len = encoder_outputs.size(0)\n",
    "        this_batch_size = encoder_outputs.size(1)\n",
    "\n",
    "        # Se inicializa las energias de atencion y se calculan en cada elemento del batch\n",
    "        att_energies = Variable(torch.zeros(this_batch_size, max_len)).cuda()\n",
    "\n",
    "        for b in range(this_batch_size): # por cada elemento b del batch\n",
    "            for i in range(max_len): # por cada paso i de la secuencia\n",
    "                att_energies[b, i] = self.score(hidden[:, b].squeeze(0),\n",
    "                                                encoder_outputs[i, b])\n",
    "\n",
    "        # Se normalizan los pesos entre 0 y 1\n",
    "        return F.softmax(att_energies).unsqueeze(1)\n",
    "    \n",
    "    def score(self, hidden, encoder_output):\n",
    "        if self.method == 'dot':\n",
    "            energy = hidden.dot(encoder_output)\n",
    "            return energy\n",
    "        \n",
    "        elif self.method == 'general':\n",
    "            energy = self.att(encoder_output)\n",
    "            energy = hidden.dot(energy)\n",
    "            return energy\n",
    "        \n",
    "        elif self.method == 'concat':\n",
    "            energy = self.att(torch.cat((hidden, encoder_output), 1))\n",
    "            energy = self.v.dot(energy)\n",
    "            return energy\n",
    "\n",
    "class AttnDecoderRNN(nn.Module):\n",
    "    def __init__(self, output_size, hidden_size, n_layers=1,\n",
    "                 att_method='general', embedding_dropout=0, rnn_dropout=0):\n",
    "        super(AttnDecoderRNN, self).__init__()\n",
    "        self.output_size = output_size\n",
    "        self.hidden_size = hidden_size\n",
    "        self.n_layers = n_layers\n",
    "        self.att_method = att_method\n",
    "        self.embedding_dropout = embedding_dropout\n",
    "        self.rnn_dropout = rnn_dropout\n",
    "\n",
    "        # Layers\n",
    "        self.embedding = nn.Embedding(output_size, hidden_size)\n",
    "        self.embedding_dropout = nn.Dropout(embedding_dropout)\n",
    "        self.rnn = nn.GRU(hidden_size, hidden_size, n_layers, dropout=rnn_dropout)\n",
    "        self.attention = Attention(att_method, hidden_size)\n",
    "        self.concat = nn.Linear(hidden_size * 2, hidden_size)\n",
    "        self.out = nn.Linear(hidden_size, output_size)\n",
    "\n",
    "    def forward(self, input, last_hidden, encoder_outputs):\n",
    "        # ojo: input es el batch de los ultimos outputs, no es una secuencia\n",
    "        batch_size = input.size(0)\n",
    "        embs = self.embedding(input)\n",
    "        embs = self.embedding_dropout(embs)\n",
    "        embs = embs.view(1, batch_size, self.hidden_size)\n",
    "\n",
    "        # Se corre la RNN en el input con el ultimo hidden state\n",
    "        rnn_output, hidden = self.rnn(embs, last_hidden)\n",
    "        \n",
    "        # Se calcula la atencion y se aplica a las salidas del encoder\n",
    "        att_weights = self.attention(rnn_output, encoder_outputs)\n",
    "        context = att_weights.bmm(encoder_outputs.transpose(0, 1))\n",
    "        \n",
    "        # Se concatenan los valores de salida de la rnn y el contexto\n",
    "        concat_input = torch.cat((rnn_output.squeeze(0), context.squeeze(1)), 1)\n",
    "        concat_output = F.tanh(self.concat(concat_input))\n",
    "        output = self.out(concat_output)\n",
    "\n",
    "        return output, hidden, att_weights\n",
    "    "
   ]
  },
  {
   "cell_type": "markdown",
   "metadata": {},
   "source": [
    "# Cargar Embeddings (Glove)"
   ]
  },
  {
   "cell_type": "code",
   "execution_count": 7,
   "metadata": {
    "collapsed": true
   },
   "outputs": [],
   "source": [
    "# TODO"
   ]
  },
  {
   "cell_type": "markdown",
   "metadata": {},
   "source": [
    "# Training"
   ]
  },
  {
   "cell_type": "code",
   "execution_count": 81,
   "metadata": {
    "collapsed": true
   },
   "outputs": [],
   "source": [
    "def train_epoch(epoch_desc, epoch_batchs, tf_ratio, gradient_clip=5.0, data_set='train'):\n",
    "    avg_mom = 0.9\n",
    "    avg_loss = 0.0\n",
    "    debias_loss = 0.0\n",
    "    \n",
    "    if data_set == 'train':\n",
    "        encoder.train(True)\n",
    "        decoder.train(True)\n",
    "    else:\n",
    "        encoder.train(False)\n",
    "        decoder.train(False)\n",
    "    \n",
    "    if data_set == 'train':\n",
    "        range_fun = tnrange(epoch_batchs, desc=epoch_desc)\n",
    "    else:\n",
    "        range_fun = tnrange(epoch_batchs, desc=epoch_desc, leave=False)\n",
    "    \n",
    "    for it in range_fun:\n",
    "        range_fun.set_postfix(loss=debias_loss, teacher_forcing=tf_ratio)\n",
    "        \n",
    "        # Inicializar gradientes y perdida\n",
    "        if data_set == 'train':\n",
    "            encoder_optimizer.zero_grad()\n",
    "            decoder_optimizer.zero_grad()\n",
    "            \n",
    "        # Obtener batch de entrenamiento\n",
    "#         ### debug gpu memory\n",
    "#         for _ in range(5000):\n",
    "#             training_batch = next(train_iter)\n",
    "#             if training_batch.en.size(0) > 22:\n",
    "#                 break\n",
    "#         ### debug gpu memory\n",
    "        if data_set == 'train':\n",
    "            training_batch = next(train_iter)\n",
    "        elif data_set == 'test':\n",
    "            training_batch = next(test_iter)\n",
    "        elif data_set == 'validation':\n",
    "            training_batch = next(val_iter)\n",
    "            \n",
    "        input_variable = training_batch.es\n",
    "        target_variable = training_batch.en\n",
    "        input_length, batch_size  = input_variable.size()\n",
    "        target_length = target_variable.size()[0]\n",
    "\n",
    "        # Encodear el input\n",
    "        encoder_outputs, encoder_hidden = encoder(input_variable, None)\n",
    "\n",
    "        # Crear variables para el input y output del decoder\n",
    "        decoder_input = Variable(torch.LongTensor([SOS_token] * batch_size)).cuda()\n",
    "        # Fix, las ultimas capas en caso de bidireccional\n",
    "        decoder_hidden = encoder_hidden[-decoder.n_layers:]\n",
    "        all_decoder_outputs = Variable(torch.zeros(\n",
    "            target_length, batch_size, decoder.output_size)).cuda()\n",
    "\n",
    "        # Se ejecuta el decoder en cada paso de la secuencia\n",
    "        for t in range(target_length):\n",
    "            decoder_output, decoder_hidden, decoder_att = decoder(\n",
    "                decoder_input, decoder_hidden, encoder_outputs\n",
    "            )\n",
    "\n",
    "            all_decoder_outputs[t] = decoder_output\n",
    "\n",
    "            if t < target_length-1:\n",
    "                # Usar teacher_forcing\n",
    "                use_tf = random.random() < tf_ratio\n",
    "                if use_tf:\n",
    "                    # De la data\n",
    "                    decoder_input = target_variable[t+1]\n",
    "                else:\n",
    "                    # Del modelo\n",
    "                    decoder_input = decoder_output.topk(1, 1)[1]\n",
    "\n",
    "        # Funcion de perdida\n",
    "        log_probs = F.log_softmax(all_decoder_outputs.view(-1, decoder.output_size))\n",
    "        loss = nn.NLLLoss()(log_probs, target_variable.view(-1))\n",
    "        avg_loss = avg_loss * avg_mom + loss.data[0] * (1-avg_mom)\n",
    "        debias_loss = avg_loss / (1 - avg_mom**(it+1))\n",
    "        \n",
    "        # Optimizar parametros\n",
    "        if data_set == 'train':\n",
    "#             ### debug gpu memory\n",
    "#             print(input_length, target_length, avg_loss, loss.data[0], debias_loss)\n",
    "#             try:\n",
    "#                 loss.backward()\n",
    "#             except RuntimeError:\n",
    "#                 import pdb; pdb.set_trace()\n",
    "#             ### debug gpu memory\n",
    "                \n",
    "            loss.backward()\n",
    "            nn.utils.clip_grad_norm(encoder.parameters(), gradient_clip)\n",
    "            nn.utils.clip_grad_norm(decoder.parameters(), gradient_clip)\n",
    "            encoder_optimizer.step()\n",
    "            decoder_optimizer.step()\n",
    "    \n",
    "    return avg_loss if it > 100 else debias_loss\n"
   ]
  },
  {
   "cell_type": "code",
   "execution_count": 9,
   "metadata": {
    "collapsed": true
   },
   "outputs": [],
   "source": [
    "def predict(batch, max_target_length=train_max_length):\n",
    "    input_length, batch_size  = batch.size()\n",
    "    target_length = min(train_max_length, input_length*2)\n",
    "    eos_check = torch.LongTensor([EOS_token] * batch_size).cuda()\n",
    "    out = []\n",
    "    \n",
    "    # Encodear el input\n",
    "    encoder_outputs, encoder_hidden = encoder(batch, None)\n",
    "\n",
    "    # Crear variables para el input y output del decoder\n",
    "    decoder_input = Variable(torch.LongTensor([SOS_token] * batch_size)).cuda()\n",
    "    # Fix, las ultimas capas en caso de bidireccional\n",
    "    decoder_hidden = encoder_hidden[-decoder.n_layers:]\n",
    "\n",
    "    # Se ejecuta el decoder en cada paso de la secuencia\n",
    "    for t in range(target_length):\n",
    "        decoder_output, decoder_hidden, decoder_att = decoder(\n",
    "            decoder_input, decoder_hidden, encoder_outputs\n",
    "        )\n",
    "\n",
    "        if t < target_length-1:\n",
    "            decoder_input = decoder_output.topk(1, 1)[1]\n",
    "            out.append(decoder_input)\n",
    "\n",
    "        if torch.sum(decoder_input.data.squeeze() == eos_check) == batch_size:\n",
    "            break\n",
    "                \n",
    "    return torch.cat(out, 1).transpose(0, 1).data.cpu().numpy()"
   ]
  },
  {
   "cell_type": "code",
   "execution_count": 10,
   "metadata": {
    "collapsed": true
   },
   "outputs": [],
   "source": [
    "perplexity = lambda x: math.exp(float(x)) if x < 300 else float(\"inf\")\n",
    "\n",
    "def train(epochs, model_name, tf_ratio=1.0, tf_epoch_end=0, results_each=5,\n",
    "          n_examples=3, save_each=5, epoch_batchs_test=10, gradient_clip=5.0):\n",
    "    t0 = time()\n",
    "    results = {}\n",
    "    train_loss = []\n",
    "    test_loss = []\n",
    "    zeros = int(math.log10(epochs)) + 1\n",
    "    \n",
    "    # teacher forcing interpolation\n",
    "    tf = np.zeros(epochs)\n",
    "    tf[:tf_epoch_end] = np.linspace(tf_ratio, 0, tf_epoch_end)\n",
    "    \n",
    "    try:\n",
    "        for i in tnrange(epochs, desc='Training'):\n",
    "            # Entrenar una epoca\n",
    "            l = train_epoch(f'Epoch {i+1:0{zeros}}', epoch_batchs_train,\n",
    "                            tf[i], gradient_clip)\n",
    "            train_loss.append(l)\n",
    "\n",
    "            # Evaluar perdida en el test set (sin teacher forcing)\n",
    "            l = train_epoch(f'Test Loss', epoch_batchs_test,\n",
    "                            0, gradient_clip, data_set='test')\n",
    "            test_loss.append(l)\n",
    "\n",
    "            # Guardar modelo\n",
    "            if (i+1) % save_each == 0:\n",
    "                torch.save(encoder.state_dict(), f'data/{model_name}_encoder.pkl')\n",
    "                torch.save(decoder.state_dict(), f'data/{model_name}_decoder.pkl')\n",
    "\n",
    "            # Mostrar resultados\n",
    "            if (i+1) % results_each == 0:\n",
    "                print('Teacher forcing ratio=%.2f' % tf[i])\n",
    "                print('Train loss=%.5f, perplexity=%.5f' %\n",
    "                      (train_loss[-1], perplexity(train_loss[-1])))\n",
    "                print('Test  loss=%.5f, perplexity=%.5f\\n' %\n",
    "                      (test_loss[-1], perplexity(test_loss[-1])))\n",
    "\n",
    "                # Ejemplos de traduccion\n",
    "                examples = next(train_iter)\n",
    "                examples_es = examples.es[:,:n_examples]\n",
    "                examples_en = examples.en[:,:n_examples].data.cpu().numpy()\n",
    "                predicted = predict(examples_es)\n",
    "                examples_es = examples_es.data.cpu().numpy()\n",
    "                for j in range(n_examples):\n",
    "                    print(' '.join([es_dict[w] for w in examples_es[:, j]]))\n",
    "                    print('Result -> ', ' '.join([en_dict[w] for w in predicted[:, j]]))\n",
    "                    print('Target -> ', ' '.join([en_dict[w] for w in examples_en[:, j]]), '\\n')\n",
    "        \n",
    "            write_training_log(f'data/{model_name}_log.txt', i,\n",
    "                               tf[i], train_loss[-1], test_loss[-1])\n",
    "            \n",
    "    except KeyboardInterrupt:\n",
    "        print('Interrupted at epoch: %d' % (i+1))\n",
    "        \n",
    "    results['train_loss'] = train_loss\n",
    "    results['test_loss'] = test_loss\n",
    "        \n",
    "    torch.save(encoder.state_dict(), f'data/{model_name}_encoder.pkl')\n",
    "    torch.save(decoder.state_dict(), f'data/{model_name}_decoder.pkl')\n",
    "    \n",
    "    return results"
   ]
  },
  {
   "cell_type": "markdown",
   "metadata": {},
   "source": [
    "# Definir el modelo"
   ]
  },
  {
   "cell_type": "code",
   "execution_count": 11,
   "metadata": {
    "collapsed": true
   },
   "outputs": [],
   "source": [
    "model_name = 'seq2seq'\n",
    "encoder_hidden = 256\n",
    "encoder_bi = True\n",
    "n_layers = 2\n",
    "lr = 0.0001\n",
    "teacher_forcing_epoch_end = 5\n",
    "epochs = 10\n",
    "\n",
    "encoder = EncoderRNN(len(ES.vocab.itos), encoder_hidden, n_layers, bidirectional=encoder_bi).cuda()\n",
    "decoder = AttnDecoderRNN(len(EN.vocab.itos), encoder_hidden, n_layers).cuda()\n",
    "encoder_optimizer = torch.optim.Adam(encoder.parameters(), lr=lr)\n",
    "decoder_optimizer = torch.optim.Adam(decoder.parameters(), lr=lr)"
   ]
  },
  {
   "cell_type": "code",
   "execution_count": 12,
   "metadata": {
    "collapsed": true
   },
   "outputs": [],
   "source": [
    "# # Cargar pesos\n",
    "# encoder.load_state_dict(torch.load(f'data/{model_name}_encoder.pkl'))\n",
    "# decoder.load_state_dict(torch.load(f'data/{model_name}_decoder.pkl'))"
   ]
  },
  {
   "cell_type": "markdown",
   "metadata": {},
   "source": [
    "# Pruebas"
   ]
  },
  {
   "cell_type": "code",
   "execution_count": 83,
   "metadata": {},
   "outputs": [
    {
     "name": "stdout",
     "output_type": "stream",
     "text": [
      "Automatic pdb calling has been turned OFF\n"
     ]
    }
   ],
   "source": [
    "%pdb"
   ]
  },
  {
   "cell_type": "code",
   "execution_count": 85,
   "metadata": {},
   "outputs": [],
   "source": [
    "# l = train_epoch('asd', 500, 0.5, data_set='train')\n",
    "# l"
   ]
  },
  {
   "cell_type": "code",
   "execution_count": 86,
   "metadata": {
    "scrolled": false
   },
   "outputs": [
    {
     "data": {
      "application/vnd.jupyter.widget-view+json": {
       "model_id": "ba31aedafaf447c0bae42416e3cfe94a",
       "version_major": 2,
       "version_minor": 0
      },
      "text/plain": [
       "A Jupyter Widget"
      ]
     },
     "metadata": {},
     "output_type": "display_data"
    },
    {
     "data": {
      "application/vnd.jupyter.widget-view+json": {
       "model_id": "e3992df7c581426b9607cc3ea65e7081",
       "version_major": 2,
       "version_minor": 0
      },
      "text/plain": [
       "A Jupyter Widget"
      ]
     },
     "metadata": {},
     "output_type": "display_data"
    },
    {
     "data": {
      "application/vnd.jupyter.widget-view+json": {
       "model_id": "fc07a4a2aec541918a5ab5d8f9f9829c",
       "version_major": 2,
       "version_minor": 0
      },
      "text/plain": [
       "A Jupyter Widget"
      ]
     },
     "metadata": {},
     "output_type": "display_data"
    },
    {
     "data": {
      "application/vnd.jupyter.widget-view+json": {
       "model_id": "39525e8d7ee14a9784ae74cc10f0f543",
       "version_major": 2,
       "version_minor": 0
      },
      "text/plain": [
       "A Jupyter Widget"
      ]
     },
     "metadata": {},
     "output_type": "display_data"
    },
    {
     "data": {
      "application/vnd.jupyter.widget-view+json": {
       "model_id": "734945a5e3424c2c92e9abc56bdd8b0d",
       "version_major": 2,
       "version_minor": 0
      },
      "text/plain": [
       "A Jupyter Widget"
      ]
     },
     "metadata": {},
     "output_type": "display_data"
    },
    {
     "data": {
      "application/vnd.jupyter.widget-view+json": {
       "model_id": "8f16cedfa8fb4fcc80295a14f53b1363",
       "version_major": 2,
       "version_minor": 0
      },
      "text/plain": [
       "A Jupyter Widget"
      ]
     },
     "metadata": {},
     "output_type": "display_data"
    },
    {
     "data": {
      "application/vnd.jupyter.widget-view+json": {
       "model_id": "8ea7afee3cc644499ab207557c8789c8",
       "version_major": 2,
       "version_minor": 0
      },
      "text/plain": [
       "A Jupyter Widget"
      ]
     },
     "metadata": {},
     "output_type": "display_data"
    },
    {
     "data": {
      "application/vnd.jupyter.widget-view+json": {
       "model_id": "2d60badc17d94e1eb5981485075f0b16",
       "version_major": 2,
       "version_minor": 0
      },
      "text/plain": [
       "A Jupyter Widget"
      ]
     },
     "metadata": {},
     "output_type": "display_data"
    },
    {
     "data": {
      "application/vnd.jupyter.widget-view+json": {
       "model_id": "1565275d5fff41659a4265ec555555e9",
       "version_major": 2,
       "version_minor": 0
      },
      "text/plain": [
       "A Jupyter Widget"
      ]
     },
     "metadata": {},
     "output_type": "display_data"
    },
    {
     "data": {
      "application/vnd.jupyter.widget-view+json": {
       "model_id": "ded812aa77084ffc8b679b114f84a344",
       "version_major": 2,
       "version_minor": 0
      },
      "text/plain": [
       "A Jupyter Widget"
      ]
     },
     "metadata": {},
     "output_type": "display_data"
    },
    {
     "data": {
      "application/vnd.jupyter.widget-view+json": {
       "model_id": "990f15f6ff384a33b2a2447389eb3a43",
       "version_major": 2,
       "version_minor": 0
      },
      "text/plain": [
       "A Jupyter Widget"
      ]
     },
     "metadata": {},
     "output_type": "display_data"
    },
    {
     "name": "stdout",
     "output_type": "stream",
     "text": [
      "Teacher forcing ratio=0.00\n",
      "Train loss=4.26967, perplexity=71.49800\n",
      "Test  loss=4.14068, perplexity=62.84562\n",
      "\n",
      "¿ sabes dónde está ?\n",
      "Result ->  <sos> i you you ? ? <eos> <eos>\n",
      "Target ->  <sos> do you know where it is ? <eos> \n",
      "\n",
      "debes ir al médico .\n",
      "Result ->  <sos> i i . . . . <eos>\n",
      "Target ->  <sos> you must go to the doctor . <eos> \n",
      "\n",
      "sigo buscando a tom .\n",
      "Result ->  <sos> i i . . . . <eos>\n",
      "Target ->  <sos> i 'm still looking for tom . <eos> \n",
      "\n"
     ]
    },
    {
     "data": {
      "application/vnd.jupyter.widget-view+json": {
       "model_id": "a1028cf88f664696bd40f39fbbe378de",
       "version_major": 2,
       "version_minor": 0
      },
      "text/plain": [
       "A Jupyter Widget"
      ]
     },
     "metadata": {},
     "output_type": "display_data"
    },
    {
     "data": {
      "application/vnd.jupyter.widget-view+json": {
       "model_id": "760321d14a9c456399968bfd02c0db2f",
       "version_major": 2,
       "version_minor": 0
      },
      "text/plain": [
       "A Jupyter Widget"
      ]
     },
     "metadata": {},
     "output_type": "display_data"
    },
    {
     "data": {
      "application/vnd.jupyter.widget-view+json": {
       "model_id": "c15cb076777b4c2b94812f760db0dd79",
       "version_major": 2,
       "version_minor": 0
      },
      "text/plain": [
       "A Jupyter Widget"
      ]
     },
     "metadata": {},
     "output_type": "display_data"
    },
    {
     "data": {
      "application/vnd.jupyter.widget-view+json": {
       "model_id": "b781e37820194ef4a508792726900882",
       "version_major": 2,
       "version_minor": 0
      },
      "text/plain": [
       "A Jupyter Widget"
      ]
     },
     "metadata": {},
     "output_type": "display_data"
    },
    {
     "data": {
      "application/vnd.jupyter.widget-view+json": {
       "model_id": "d64953b2c7fb44579c7f02d977e64f59",
       "version_major": 2,
       "version_minor": 0
      },
      "text/plain": [
       "A Jupyter Widget"
      ]
     },
     "metadata": {},
     "output_type": "display_data"
    },
    {
     "data": {
      "application/vnd.jupyter.widget-view+json": {
       "model_id": "473f55171d064c0dbef2bda15a92d25b",
       "version_major": 2,
       "version_minor": 0
      },
      "text/plain": [
       "A Jupyter Widget"
      ]
     },
     "metadata": {},
     "output_type": "display_data"
    },
    {
     "data": {
      "application/vnd.jupyter.widget-view+json": {
       "model_id": "3d7d91b792b1425780bcc9a89263c6e4",
       "version_major": 2,
       "version_minor": 0
      },
      "text/plain": [
       "A Jupyter Widget"
      ]
     },
     "metadata": {},
     "output_type": "display_data"
    },
    {
     "data": {
      "application/vnd.jupyter.widget-view+json": {
       "model_id": "e561183272414ece9072cd8b8936a4d9",
       "version_major": 2,
       "version_minor": 0
      },
      "text/plain": [
       "A Jupyter Widget"
      ]
     },
     "metadata": {},
     "output_type": "display_data"
    },
    {
     "data": {
      "application/vnd.jupyter.widget-view+json": {
       "model_id": "cd57c0827fa849f5b8ea5533131286dd",
       "version_major": 2,
       "version_minor": 0
      },
      "text/plain": [
       "A Jupyter Widget"
      ]
     },
     "metadata": {},
     "output_type": "display_data"
    },
    {
     "data": {
      "application/vnd.jupyter.widget-view+json": {
       "model_id": "2e8d9c43233448429e5f594cffeb2450",
       "version_major": 2,
       "version_minor": 0
      },
      "text/plain": [
       "A Jupyter Widget"
      ]
     },
     "metadata": {},
     "output_type": "display_data"
    },
    {
     "name": "stdout",
     "output_type": "stream",
     "text": [
      "Teacher forcing ratio=0.00\n",
      "Train loss=4.27118, perplexity=71.60582\n",
      "Test  loss=4.60387, perplexity=99.87044\n",
      "\n",
      "parece que tom estuvo aquí .\n",
      "Result ->  <sos> i i the . . . <eos>\n",
      "Target ->  <sos> it seems that tom has been here . <eos> <pad> \n",
      "\n",
      "gracias por comprarme esta revista .\n",
      "Result ->  <sos> i i . . . <eos> <eos>\n",
      "Target ->  <sos> thank you for buying me this magazine . <eos> <pad> \n",
      "\n",
      "estoy feliz porque estás acá .\n",
      "Result ->  <sos> i i . . . <eos> <eos>\n",
      "Target ->  <sos> i 'm happy because you 're here . <eos> <pad> \n",
      "\n"
     ]
    }
   ],
   "source": [
    "# Test\n",
    "epoch_batchs_train = 10\n",
    "results = train(10, model_name, tf_epoch_end=5, results_each=5, epoch_batchs_test=3)"
   ]
  },
  {
   "cell_type": "code",
   "execution_count": 87,
   "metadata": {},
   "outputs": [
    {
     "data": {
      "image/png": "[encoded data removed]",
      "text/plain": [
       "<matplotlib.figure.Figure at 0x7f17028b81d0>"
      ]
     },
     "metadata": {},
     "output_type": "display_data"
    }
   ],
   "source": [
    "# Test\n",
    "plt.figure(figsize=(12,4))\n",
    "plt.plot(results['train_loss'], label='train')\n",
    "plt.plot(results['test_loss'], label='test')\n",
    "plt.legend();"
   ]
  },
  {
   "cell_type": "markdown",
   "metadata": {},
   "source": [
    "# Entrenamiento"
   ]
  },
  {
   "cell_type": "code",
   "execution_count": null,
   "metadata": {
    "collapsed": true
   },
   "outputs": [],
   "source": [
    "# results = train(epochs, teacher_forcing_epoch_end, model_name)"
   ]
  },
  {
   "cell_type": "code",
   "execution_count": null,
   "metadata": {
    "collapsed": true
   },
   "outputs": [],
   "source": [
    "# plt.figure(figsize=(12,4))\n",
    "# plt.plot(results['train_loss'], label='train')\n",
    "# plt.plot(results['test_loss'], label='test')\n",
    "# plt.legend();"
   ]
  },
  {
   "cell_type": "markdown",
   "metadata": {},
   "source": [
    "# Ver resultados"
   ]
  },
  {
   "cell_type": "code",
   "execution_count": 89,
   "metadata": {},
   "outputs": [
    {
     "name": "stdout",
     "output_type": "stream",
     "text": [
      "nadie lo sabía . <pad> <pad>\n",
      "Result ->  <sos> i i . . . . <eos>\n",
      "Target ->  <sos> nobody knew . <eos> <pad> \n",
      "\n",
      "me quedé dormido . <pad> <pad>\n",
      "Result ->  <sos> i is . . . . <eos>\n",
      "Target ->  <sos> i overslept . <eos> <pad> \n",
      "\n",
      "<unk> a tomás . <pad> <pad>\n",
      "Result ->  <sos> i is . . . . <eos>\n",
      "Target ->  <sos> follow tom . <eos> <pad> \n",
      "\n",
      "no te muevas . <pad> <pad>\n",
      "Result ->  <sos> i i the . . . <eos>\n",
      "Target ->  <sos> be still . <eos> <pad> \n",
      "\n",
      "¿ quién escuchó ? <pad> <pad>\n",
      "Result ->  <sos> i you you ? ? <eos> <eos>\n",
      "Target ->  <sos> who listened ? <eos> <pad> \n",
      "\n"
     ]
    }
   ],
   "source": [
    "n_examples = 5\n",
    "examples = next(train_iter)\n",
    "examples_es = examples.es[:,:n_examples]\n",
    "examples_en = examples.en[:,:n_examples].data.cpu().numpy()\n",
    "predicted = predict(examples_es)\n",
    "examples_es = examples_es.data.cpu().numpy()\n",
    "for i in range(n_examples):\n",
    "    print(' '.join([es_dict[w] for w in examples_es[:, i]]))\n",
    "    print('Result -> ', ' '.join([en_dict[w] for w in predicted[:, i]]))\n",
    "    print('Target -> ', ' '.join([en_dict[w] for w in examples_en[:, i]]), '\\n')\n",
    "    # TODO: plot attention"
   ]
  }
 ],
 "metadata": {
  "kernelspec": {
   "display_name": "Python 3",
   "language": "python",
   "name": "python3"
  },
  "language_info": {
   "codemirror_mode": {
    "name": "ipython",
    "version": 3
   },
   "file_extension": ".py",
   "mimetype": "text/x-python",
   "name": "python",
   "nbconvert_exporter": "python",
   "pygments_lexer": "ipython3",
   "version": "3.6.3"
  }
 },
 "nbformat": 4,
 "nbformat_minor": 2
}
