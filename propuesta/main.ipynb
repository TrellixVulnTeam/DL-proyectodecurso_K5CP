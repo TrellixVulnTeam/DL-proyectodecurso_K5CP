{
 "cells": [
  {
   "cell_type": "markdown",
   "metadata": {},
   "source": [
    "# Imports"
   ]
  },
  {
   "cell_type": "code",
   "execution_count": 1,
   "metadata": {
    "collapsed": true
   },
   "outputs": [],
   "source": [
    "import torch, random, math\n",
    "import torch.nn.functional as F\n",
    "from time import time\n",
    "from torch import nn\n",
    "from torchtext import data\n",
    "from torch.autograd import Variable\n",
    "from iseq2seq.utils import load_anki_dataset, masked_cross_entropy\n",
    "\n",
    "import matplotlib.pyplot as plt\n",
    "%matplotlib inline"
   ]
  },
  {
   "cell_type": "markdown",
   "metadata": {},
   "source": [
    "# Loading data"
   ]
  },
  {
   "cell_type": "code",
   "execution_count": 2,
   "metadata": {},
   "outputs": [
    {
     "name": "stdout",
     "output_type": "stream",
     "text": [
      "\n",
      "\u001b[93m    Warning: no model found for 'es'\u001b[0m\n",
      "\n",
      "    Only loading the 'es' tokenizer.\n",
      "\n",
      "\n",
      "\u001b[93m    Warning: no model found for 'en'\u001b[0m\n",
      "\n",
      "    Only loading the 'en' tokenizer.\n",
      "\n"
     ]
    },
    {
     "data": {
      "text/plain": [
       "(torch.Size([7, 32]),\n",
       " torch.Size([9, 32]),\n",
       " torch.Size([6, 500]),\n",
       " torch.Size([9, 500]))"
      ]
     },
     "execution_count": 2,
     "metadata": {},
     "output_type": "execute_result"
    }
   ],
   "source": [
    "data_path = 'data/dataset.pkl'\n",
    "ds_train, ds_test, ES, EN = load_anki_dataset(data_path)\n",
    "\n",
    "train_buckets = data.BucketIterator(ds_train, 32,\n",
    "    sort_key=lambda x: data.interleave_keys(len(x.es), len(x.en)))\n",
    "test_buckets = data.BucketIterator(ds_test, 500,\n",
    "    sort_key=lambda x: data.interleave_keys(len(x.es), len(x.en)))\n",
    "train_iter = iter(train_buckets)\n",
    "test_iter = iter(test_buckets)\n",
    "x_train = next(train_iter)\n",
    "x_test = next(test_iter)\n",
    "x_train.es.size(), x_train.en.size(), x_test.es.size(), x_test.en.size()"
   ]
  },
  {
   "cell_type": "code",
   "execution_count": 3,
   "metadata": {},
   "outputs": [
    {
     "data": {
      "text/plain": [
       "53"
      ]
     },
     "execution_count": 3,
     "metadata": {},
     "output_type": "execute_result"
    }
   ],
   "source": [
    "train_max_length = 0\n",
    "\n",
    "for ex in train_buckets.dataset.examples:\n",
    "    train_max_length = max(train_max_length, len(ex.en))\n",
    "    \n",
    "train_max_length"
   ]
  },
  {
   "cell_type": "code",
   "execution_count": 4,
   "metadata": {},
   "outputs": [
    {
     "data": {
      "text/plain": [
       "(2, 3)"
      ]
     },
     "execution_count": 4,
     "metadata": {},
     "output_type": "execute_result"
    }
   ],
   "source": [
    "SOS_token = EN.vocab.stoi['<sos>']\n",
    "EOS_token = EN.vocab.stoi['<eos>']\n",
    "SOS_token, EOS_token"
   ]
  },
  {
   "cell_type": "markdown",
   "metadata": {},
   "source": [
    "# Encoder"
   ]
  },
  {
   "cell_type": "code",
   "execution_count": 5,
   "metadata": {
    "collapsed": true
   },
   "outputs": [],
   "source": [
    "class EncoderRNN(nn.Module):\n",
    "    def __init__(self, input_size, hidden_size, n_layers=1, bidirectional=False,\n",
    "                 embedding_dropout=0, rnn_dropout=0):\n",
    "        super(EncoderRNN, self).__init__()\n",
    "        self.input_size = input_size\n",
    "        self.hidden_size = hidden_size\n",
    "        self.n_layers = n_layers\n",
    "        self.bidirectional = bidirectional\n",
    "        self.embedding_dropout = embedding_dropout\n",
    "        self.rnn_dropout = rnn_dropout\n",
    "        \n",
    "        # Layers\n",
    "        self.embedding = nn.Embedding(input_size, hidden_size)\n",
    "        self.embedding_dropout = nn.Dropout(embedding_dropout)\n",
    "        self.rnn = nn.GRU(hidden_size, hidden_size, num_layers=n_layers,\n",
    "                          bidirectional=bidirectional, dropout=rnn_dropout)\n",
    "        \n",
    "    def forward(self, input, hidden):\n",
    "        embs = self.embedding(input)\n",
    "        embs = self.embedding_dropout(embs)\n",
    "        output, hidden = self.rnn(embs, hidden)\n",
    "        if self.bidirectional:\n",
    "            # En caso el encoder sea bidireccional, se suman los outputs\n",
    "            # en vez de concatenarlos.\n",
    "            output = output[:, :, :self.hidden_size] + output[:, : ,self.hidden_size:]\n",
    "        \n",
    "        return output, hidden"
   ]
  },
  {
   "cell_type": "markdown",
   "metadata": {},
   "source": [
    "# Attention Decoder"
   ]
  },
  {
   "cell_type": "code",
   "execution_count": 6,
   "metadata": {
    "collapsed": true
   },
   "outputs": [],
   "source": [
    "class Attention(nn.Module):\n",
    "    def __init__(self, method, hidden_size):\n",
    "        super(Attention, self).__init__()\n",
    "        self.method = method\n",
    "        self.hidden_size = hidden_size\n",
    "        \n",
    "        # metodos definidos en https://arxiv.org/pdf/1508.04025.pdf\n",
    "        assert method in ('dot', 'general', 'concat'), 'invalid attention method'\n",
    "        \n",
    "        # Layers\n",
    "        if self.method == 'general':\n",
    "            self.att = nn.Linear(self.hidden_size, hidden_size)\n",
    "\n",
    "        elif self.method == 'concat':\n",
    "            self.att = nn.Linear(self.hidden_size * 2, hidden_size)\n",
    "            self.v = nn.Parameter(torch.FloatTensor(1, hidden_size))\n",
    "\n",
    "    def forward(self, hidden, encoder_outputs):\n",
    "        max_len = encoder_outputs.size(0)\n",
    "        this_batch_size = encoder_outputs.size(1)\n",
    "\n",
    "        # Se inicializa las energias de atencion y se calculan en cada elemento del batch\n",
    "        att_energies = Variable(torch.zeros(this_batch_size, max_len)).cuda()\n",
    "\n",
    "        for b in range(this_batch_size): # por cada elemento b del batch\n",
    "            for i in range(max_len): # por cada paso i de la secuencia\n",
    "                att_energies[b, i] = self.score(hidden[:, b].squeeze(0),\n",
    "                                                encoder_outputs[i, b])\n",
    "\n",
    "        # Se normalizan los pesos entre 0 y 1\n",
    "        return F.softmax(att_energies).unsqueeze(1)\n",
    "    \n",
    "    def score(self, hidden, encoder_output):\n",
    "        if self.method == 'dot':\n",
    "            energy = hidden.dot(encoder_output)\n",
    "            return energy\n",
    "        \n",
    "        elif self.method == 'general':\n",
    "            energy = self.att(encoder_output)\n",
    "            energy = hidden.dot(energy)\n",
    "            return energy\n",
    "        \n",
    "        elif self.method == 'concat':\n",
    "            energy = self.att(torch.cat((hidden, encoder_output), 1))\n",
    "            energy = self.v.dot(energy)\n",
    "            return energy\n",
    "\n",
    "class AttnDecoderRNN(nn.Module):\n",
    "    def __init__(self, output_size, hidden_size, n_layers=1,\n",
    "                 att_method='general', embedding_dropout=0, rnn_dropout=0):\n",
    "        super(AttnDecoderRNN, self).__init__()\n",
    "        self.output_size = output_size\n",
    "        self.hidden_size = hidden_size\n",
    "        self.n_layers = n_layers\n",
    "        self.att_method = att_method\n",
    "        self.embedding_dropout = embedding_dropout\n",
    "        self.rnn_dropout = rnn_dropout\n",
    "\n",
    "        # Layers\n",
    "        self.embedding = nn.Embedding(output_size, hidden_size)\n",
    "        self.embedding_dropout = nn.Dropout(embedding_dropout)\n",
    "        self.rnn = nn.GRU(hidden_size, hidden_size, n_layers, dropout=rnn_dropout)\n",
    "        self.attention = Attention(att_method, hidden_size)\n",
    "        self.concat = nn.Linear(hidden_size * 2, hidden_size)\n",
    "        self.out = nn.Linear(hidden_size, output_size)\n",
    "\n",
    "    def forward(self, input, last_hidden, encoder_outputs):\n",
    "        # ojo: input es el batch de los ultimos outputs, no es una secuencia\n",
    "        batch_size = input.size(0)\n",
    "        embs = self.embedding(input)\n",
    "        embs = self.embedding_dropout(embs)\n",
    "        embs = embs.view(1, batch_size, self.hidden_size)\n",
    "\n",
    "        # Se corre la RNN en el input con el ultimo hidden state\n",
    "        rnn_output, hidden = self.rnn(embs, last_hidden)\n",
    "        \n",
    "        # Se calcula la atencion y se aplica a las salidas del encoder\n",
    "        att_weights = self.attention(rnn_output, encoder_outputs)\n",
    "        context = att_weights.bmm(encoder_outputs.transpose(0, 1))\n",
    "        \n",
    "        # Se concatenan los valores de salida de la rnn y el contexto\n",
    "        concat_input = torch.cat((rnn_output.squeeze(0), context.squeeze(1)), 1)\n",
    "        concat_output = F.tanh(self.concat(concat_input))\n",
    "        output = self.out(concat_output)\n",
    "\n",
    "        return output, hidden, att_weights\n",
    "    "
   ]
  },
  {
   "cell_type": "markdown",
   "metadata": {},
   "source": [
    "# Training"
   ]
  },
  {
   "cell_type": "code",
   "execution_count": 7,
   "metadata": {
    "collapsed": true
   },
   "outputs": [],
   "source": [
    "def train_epoch(encoder, decoder, encoder_optimizer, decoder_optimizer,\n",
    "                teacher_forcing_ratio, gradient_clip=5.0):\n",
    "    # Inicializar gradientes y perdida\n",
    "    encoder_optimizer.zero_grad()\n",
    "    decoder_optimizer.zero_grad()\n",
    "\n",
    "    # Obtener batch de entrenamiento\n",
    "    training_batch = next(train_iter)\n",
    "    input_variable = training_batch.es\n",
    "    target_variable = training_batch.en\n",
    "    input_length, batch_size  = input_variable.size()\n",
    "    target_length = target_variable.size()[0]\n",
    "\n",
    "    # Encodear el input\n",
    "    encoder_outputs, encoder_hidden = encoder(input_variable, None)\n",
    "\n",
    "    # Crear variables para el input y output del decoder\n",
    "    decoder_input = Variable(torch.LongTensor([SOS_token] * batch_size)).cuda()\n",
    "    decoder_hidden = encoder_hidden[-decoder.n_layers:] # las ultimas capas en caso de bidireccional\n",
    "    all_decoder_outputs = Variable(torch.zeros(target_length, batch_size, decoder.output_size)).cuda()\n",
    "\n",
    "    # Se ejecuta el decoder en cada paso de la secuencia\n",
    "    for t in range(target_length):\n",
    "        decoder_output, decoder_hidden, decoder_att = decoder(\n",
    "            decoder_input, decoder_hidden, encoder_outputs\n",
    "        )\n",
    "\n",
    "        all_decoder_outputs[t] = decoder_output\n",
    "\n",
    "        if t < target_length-1:\n",
    "            # Usar teacher_forcing\n",
    "            use_tf = random.random() < teacher_forcing_ratio\n",
    "            if use_tf:\n",
    "                # De la data\n",
    "                decoder_input = target_variable[t+1]\n",
    "            else:\n",
    "                # Del modelo\n",
    "                decoder_input = decoder_output.topk(1, 1)[1]\n",
    "\n",
    "    log_probs = F.log_softmax(all_decoder_outputs.view(-1, decoder.output_size))\n",
    "    loss = nn.NLLLoss()(log_probs, target_variable.view(-1))\n",
    "    loss.backward()\n",
    "\n",
    "    # Clip gradient norms\n",
    "    nn.utils.clip_grad_norm(encoder.parameters(), gradient_clip)\n",
    "    nn.utils.clip_grad_norm(decoder.parameters(), gradient_clip)\n",
    "\n",
    "    # Update parameters with optimizers\n",
    "    encoder_optimizer.step()\n",
    "    decoder_optimizer.step()\n",
    "    \n",
    "    return loss.data[0]"
   ]
  },
  {
   "cell_type": "code",
   "execution_count": 11,
   "metadata": {
    "collapsed": true
   },
   "outputs": [],
   "source": [
    "def train(encoder, decoder, encoder_optimizer, decoder_optimizer,\n",
    "          teacher_forcing_ratio, epochs=10, gradient_clip=5.0):\n",
    "    t0 = time()\n",
    "    results = {}\n",
    "    train_loss = []\n",
    "    zeros = int(math.log10(epochs)) + 1\n",
    "    \n",
    "    for i in range(epochs):\n",
    "        print(f'{i+1:0{zeros}}/{epochs}...', end='\\r')\n",
    "        l = train_epoch(encoder, decoder, encoder_optimizer, decoder_optimizer,\n",
    "                        teacher_forcing_ratio, gradient_clip)\n",
    "        train_loss.append(l)\n",
    "        # TODO: evaluate loss\n",
    "        # TODO: show results\n",
    "    \n",
    "    results['train_loss'] = train_loss\n",
    "    \n",
    "    print('Elapsed: %.2fs' % (time() - t0))\n",
    "    \n",
    "    return results"
   ]
  },
  {
   "cell_type": "code",
   "execution_count": 12,
   "metadata": {},
   "outputs": [],
   "source": [
    "encoder_hidden = 256\n",
    "encoder_bi = True\n",
    "n_layers = 2\n",
    "teacher_forcing_ratio = 0.5\n",
    "lr = 0.0001\n",
    "\n",
    "encoder = EncoderRNN(len(ES.vocab.itos), encoder_hidden, n_layers, bidirectional=encoder_bi).cuda()\n",
    "decoder = AttnDecoderRNN(len(EN.vocab.itos), encoder_hidden, n_layers).cuda()\n",
    "encoder_optimizer = torch.optim.Adam(encoder.parameters(), lr=lr)\n",
    "decoder_optimizer = torch.optim.Adam(decoder.parameters(), lr=lr)"
   ]
  },
  {
   "cell_type": "code",
   "execution_count": 13,
   "metadata": {},
   "outputs": [
    {
     "name": "stdout",
     "output_type": "stream",
     "text": [
      "Elapsed: 58.03s\n"
     ]
    },
    {
     "data": {
      "image/png": "[encoded data removed]",
      "text/plain": [
       "<matplotlib.figure.Figure at 0x7f1fac9f99b0>"
      ]
     },
     "metadata": {},
     "output_type": "display_data"
    }
   ],
   "source": [
    "results = train(encoder, decoder, encoder_optimizer, decoder_optimizer,\n",
    "                teacher_forcing_ratio, epochs=20)\n",
    "plt.plot(results['train_loss']);"
   ]
  }
 ],
 "metadata": {
  "kernelspec": {
   "display_name": "Python 3",
   "language": "python",
   "name": "python3"
  },
  "language_info": {
   "codemirror_mode": {
    "name": "ipython",
    "version": 3
   },
   "file_extension": ".py",
   "mimetype": "text/x-python",
   "name": "python",
   "nbconvert_exporter": "python",
   "pygments_lexer": "ipython3",
   "version": "3.6.3"
  }
 },
 "nbformat": 4,
 "nbformat_minor": 2
}
