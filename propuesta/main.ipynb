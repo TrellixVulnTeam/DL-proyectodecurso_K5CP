{
 "cells": [
  {
   "cell_type": "markdown",
   "metadata": {},
   "source": [
    "# Librerias"
   ]
  },
  {
   "cell_type": "code",
   "execution_count": 1,
   "metadata": {
    "collapsed": true
   },
   "outputs": [],
   "source": [
    "import torch, random, math\n",
    "import numpy as np\n",
    "import pandas as pd\n",
    "import torch.nn.functional as F\n",
    "from tqdm import tnrange\n",
    "from time import time\n",
    "from torch import nn\n",
    "from torchtext import data\n",
    "from torch.autograd import Variable\n",
    "from iseq2seq.utils import load_anki_dataset, write_training_log, write_training_loss, show_attn\n",
    "\n",
    "import matplotlib.pyplot as plt\n",
    "%matplotlib inline"
   ]
  },
  {
   "cell_type": "markdown",
   "metadata": {},
   "source": [
    "# Cargar data"
   ]
  },
  {
   "cell_type": "code",
   "execution_count": 2,
   "metadata": {},
   "outputs": [
    {
     "data": {
      "text/plain": [
       "801"
      ]
     },
     "execution_count": 2,
     "metadata": {},
     "output_type": "execute_result"
    }
   ],
   "source": [
    "batch_size = 128\n",
    "data_path = 'data/dataset.pkl'\n",
    "\n",
    "ds_train, ds_test, ds_val, ES, EN = load_anki_dataset(data_path)\n",
    "es_dict = {v:k for k,v in ES.vocab.stoi.items()}\n",
    "en_dict = {v:k for k,v in EN.vocab.stoi.items()}\n",
    "\n",
    "train_buckets = data.BucketIterator(ds_train, batch_size,\n",
    "    sort_key=lambda x: data.interleave_keys(len(x.es), len(x.en)))\n",
    "test_buckets = data.BucketIterator(ds_test, batch_size,\n",
    "    sort_key=lambda x: data.interleave_keys(len(x.es), len(x.en)))\n",
    "val_buckets = data.BucketIterator(ds_val, batch_size,\n",
    "    sort_key=lambda x: data.interleave_keys(len(x.es), len(x.en)))\n",
    "train_iter = iter(train_buckets)\n",
    "test_iter = iter(test_buckets)\n",
    "val_iter = iter(val_buckets)\n",
    "epoch_batchs_train = math.ceil(len(train_buckets.dataset.examples) / train_buckets.batch_size)\n",
    "epoch_batchs_train"
   ]
  },
  {
   "cell_type": "code",
   "execution_count": 3,
   "metadata": {},
   "outputs": [
    {
     "data": {
      "text/plain": [
       "25"
      ]
     },
     "execution_count": 3,
     "metadata": {},
     "output_type": "execute_result"
    }
   ],
   "source": [
    "train_max_length = 0\n",
    "\n",
    "for ex in train_buckets.dataset.examples:\n",
    "    train_max_length = max(train_max_length, len(ex.en))\n",
    "    \n",
    "train_max_length"
   ]
  },
  {
   "cell_type": "code",
   "execution_count": 4,
   "metadata": {},
   "outputs": [
    {
     "data": {
      "text/plain": [
       "(2, 3)"
      ]
     },
     "execution_count": 4,
     "metadata": {},
     "output_type": "execute_result"
    }
   ],
   "source": [
    "SOS_token = EN.vocab.stoi['<sos>']\n",
    "EOS_token = EN.vocab.stoi['<eos>']\n",
    "SOS_token, EOS_token"
   ]
  },
  {
   "cell_type": "markdown",
   "metadata": {},
   "source": [
    "# Cargar Embeddings (GloVe)"
   ]
  },
  {
   "cell_type": "code",
   "execution_count": 5,
   "metadata": {},
   "outputs": [
    {
     "name": "stdout",
     "output_type": "stream",
     "text": [
      "Spanish embeddings: torch.Size([10264, 50]) found: 10135\n",
      "English embeddings: torch.Size([6548, 300]) found: 4574\n"
     ]
    }
   ],
   "source": [
    "import spacy\n",
    "\n",
    "spacy_es = spacy.load('es')\n",
    "spacy_en = spacy.load('en')\n",
    "\n",
    "def create_emb(lang_model, vocab, dim_vec):\n",
    "    vocab_size = len(vocab.itos)\n",
    "    emb = np.zeros((vocab_size, dim_vec))\n",
    "    found = 0\n",
    "\n",
    "    for i, word in enumerate(vocab.itos):\n",
    "        w = lang_model(word)\n",
    "        if w.has_vector:\n",
    "            emb[i] = lang_model(word).vector\n",
    "            found += 1\n",
    "        else:\n",
    "            # Si no se encuentra una palabra en los embeddings\n",
    "            # entrenados, se usa un vector random.\n",
    "            emb[i] = np.random.normal(scale=0.6, size=(dim_vec,))\n",
    "\n",
    "    return torch.from_numpy(emb), found\n",
    "\n",
    "emb_es, found_es = create_emb(spacy_es, ES.vocab, 50)\n",
    "print('Spanish embeddings:', emb_es.shape, 'found:', found_es)\n",
    "emb_en, found_en = create_emb(spacy_en, EN.vocab, 300)\n",
    "print('English embeddings:', emb_en.shape, 'found:', found_en)"
   ]
  },
  {
   "cell_type": "markdown",
   "metadata": {},
   "source": [
    "# MODELS:"
   ]
  },
  {
   "cell_type": "code",
   "execution_count": 6,
   "metadata": {
    "collapsed": true
   },
   "outputs": [],
   "source": [
    "def load_emb(emb_mat):\n",
    "    output_size, emb_size = emb_mat.size()\n",
    "    emb = nn.Embedding(output_size, emb_size)\n",
    "    emb.load_state_dict({'weight': emb_mat})\n",
    "\n",
    "    return emb"
   ]
  },
  {
   "cell_type": "markdown",
   "metadata": {},
   "source": [
    "# Encoder"
   ]
  },
  {
   "cell_type": "code",
   "execution_count": 7,
   "metadata": {
    "collapsed": true
   },
   "outputs": [],
   "source": [
    "class EncoderRNN(nn.Module):\n",
    "    def __init__(self, input_size, hidden_size, n_layers=1, bidirectional=False,\n",
    "                 embedding_dropout=0.1, rnn_dropout=0.1):\n",
    "        super(EncoderRNN, self).__init__()\n",
    "        self.input_size = input_size\n",
    "        self.hidden_size = hidden_size\n",
    "        self.n_layers = n_layers\n",
    "        self.bidirectional = bidirectional\n",
    "        self.embedding_dropout = embedding_dropout\n",
    "        self.rnn_dropout = rnn_dropout\n",
    "        \n",
    "        # Layers\n",
    "        self.embedding = load_emb(emb_es)\n",
    "        self.embedding_dropout = nn.Dropout(embedding_dropout)\n",
    "        self.lineal = nn.Linear(50, hidden_size) # 50 word_vec spanish\n",
    "        self.rnn = nn.GRU(hidden_size, hidden_size, num_layers=n_layers,\n",
    "                          bidirectional=bidirectional, dropout=rnn_dropout)\n",
    "        \n",
    "    def forward(self, input, hidden):\n",
    "        embs = self.embedding(input)\n",
    "        embs = self.embedding_dropout(embs)\n",
    "        embs = self.lineal(embs)\n",
    "        output, hidden = self.rnn(embs, hidden)\n",
    "        if self.bidirectional:\n",
    "            # En caso el encoder sea bidireccional, se suman los outputs\n",
    "            # en vez de concatenarlos.\n",
    "            output = output[:, :, :self.hidden_size] + output[:, : ,self.hidden_size:]\n",
    "        \n",
    "        return output, hidden"
   ]
  },
  {
   "cell_type": "markdown",
   "metadata": {},
   "source": [
    "# Attention Decoder"
   ]
  },
  {
   "cell_type": "code",
   "execution_count": 8,
   "metadata": {
    "collapsed": true
   },
   "outputs": [],
   "source": [
    "class Attention(nn.Module):\n",
    "    def __init__(self, method, hidden_size):\n",
    "        super(Attention, self).__init__()\n",
    "        self.method = method\n",
    "        self.hidden_size = hidden_size\n",
    "        \n",
    "        # metodos definidos en https://arxiv.org/pdf/1508.04025.pdf\n",
    "        assert method in ('dot', 'general', 'concat'), 'invalid attention method'\n",
    "        \n",
    "        # Layers\n",
    "        if self.method == 'general':\n",
    "            self.att = nn.Linear(self.hidden_size, hidden_size)\n",
    "\n",
    "        elif self.method == 'concat':\n",
    "            self.att = nn.Linear(self.hidden_size * 2, hidden_size)\n",
    "            self.v = nn.Parameter(torch.FloatTensor(1, hidden_size))\n",
    "\n",
    "    def forward(self, hidden, encoder_outputs):\n",
    "        max_len = encoder_outputs.size(0)\n",
    "        this_batch_size = encoder_outputs.size(1)\n",
    "\n",
    "        # Se inicializa las energias de atencion y se calculan en cada elemento del batch\n",
    "        att_energies = Variable(torch.zeros(this_batch_size, max_len)).cuda()\n",
    "\n",
    "        for b in range(this_batch_size): # por cada elemento b del batch\n",
    "            for i in range(max_len): # por cada paso i de la secuencia\n",
    "                att_energies[b, i] = self.score(hidden[:, b].squeeze(0),\n",
    "                                                encoder_outputs[i, b])\n",
    "\n",
    "        # Se normalizan los pesos entre 0 y 1\n",
    "        return F.softmax(att_energies).unsqueeze(1)\n",
    "    \n",
    "    def score(self, hidden, encoder_output):\n",
    "        if self.method == 'dot':\n",
    "            energy = hidden.dot(encoder_output)\n",
    "            return energy\n",
    "        \n",
    "        elif self.method == 'general':\n",
    "            energy = self.att(encoder_output)\n",
    "            energy = hidden.dot(energy)\n",
    "            return energy\n",
    "        \n",
    "        elif self.method == 'concat':\n",
    "            energy = self.att(torch.cat((hidden, encoder_output), 1))\n",
    "            energy = self.v.dot(energy)\n",
    "            return energy\n",
    "\n",
    "class AttnDecoderRNN(nn.Module):\n",
    "    def __init__(self, output_size, hidden_size, n_layers=1,\n",
    "                 att_method='general', embedding_dropout=0.1, rnn_dropout=0.1):\n",
    "        super(AttnDecoderRNN, self).__init__()\n",
    "        self.output_size = output_size\n",
    "        self.hidden_size = hidden_size\n",
    "        self.n_layers = n_layers\n",
    "        self.att_method = att_method\n",
    "        self.embedding_dropout = embedding_dropout\n",
    "        self.rnn_dropout = rnn_dropout\n",
    "\n",
    "        # Layers\n",
    "        self.embedding = load_emb(emb_en)\n",
    "        self.embedding_dropout = nn.Dropout(embedding_dropout)\n",
    "        self.rnn = nn.GRU(hidden_size, hidden_size, n_layers, dropout=rnn_dropout)\n",
    "        self.attention = Attention(att_method, hidden_size)\n",
    "        self.concat = nn.Linear(hidden_size * 2, hidden_size)\n",
    "        self.out = nn.Linear(hidden_size, output_size)\n",
    "\n",
    "    def forward(self, input, last_hidden, encoder_outputs):\n",
    "        # ojo: input es el batch de los ultimos outputs, no es una secuencia\n",
    "        batch_size = input.size(0)\n",
    "        embs = self.embedding(input)\n",
    "        embs = self.embedding_dropout(embs)\n",
    "        embs = embs.view(1, batch_size, self.hidden_size)\n",
    "\n",
    "        # Se corre la RNN en el input con el ultimo hidden state\n",
    "        rnn_output, hidden = self.rnn(embs, last_hidden)\n",
    "        \n",
    "        # Se calcula la atencion y se aplica a las salidas del encoder\n",
    "        att_weights = self.attention(rnn_output, encoder_outputs)\n",
    "        context = att_weights.bmm(encoder_outputs.transpose(0, 1))\n",
    "        \n",
    "        # Se concatenan los valores de salida de la rnn y el contexto\n",
    "        concat_input = torch.cat((rnn_output.squeeze(0), context.squeeze(1)), 1)\n",
    "        concat_output = F.tanh(self.concat(concat_input))\n",
    "        output = self.out(concat_output)\n",
    "\n",
    "        return output, hidden, att_weights\n",
    "    "
   ]
  },
  {
   "cell_type": "markdown",
   "metadata": {},
   "source": [
    "# Training"
   ]
  },
  {
   "cell_type": "code",
   "execution_count": 9,
   "metadata": {
    "collapsed": true
   },
   "outputs": [],
   "source": [
    "def train_epoch(epoch_desc, epoch_batchs, tf_ratio, gradient_clip=5.0, data_set='train',\n",
    "                tqdm_enable=True):\n",
    "    avg_mom = 0.9\n",
    "    avg_loss = 0.0\n",
    "    debias_loss = 0.0\n",
    "    \n",
    "    if data_set == 'train':\n",
    "        encoder.train(True)\n",
    "        decoder.train(True)\n",
    "    else:\n",
    "        encoder.train(False)\n",
    "        decoder.train(False)\n",
    "    \n",
    "    if not tqdm_enable:\n",
    "        range_fun = range(epoch_batchs)\n",
    "    elif data_set == 'train':\n",
    "        range_fun = tnrange(epoch_batchs, desc=epoch_desc)\n",
    "    else:\n",
    "        range_fun = tnrange(epoch_batchs, desc=epoch_desc, leave=False)\n",
    "    \n",
    "    for it in range_fun:\n",
    "        if tqdm_enable:\n",
    "            range_fun.set_postfix(loss=debias_loss, teacher_forcing=tf_ratio)\n",
    "        \n",
    "        # Inicializar gradientes y perdida\n",
    "        if data_set == 'train':\n",
    "            encoder_optimizer.zero_grad()\n",
    "            decoder_optimizer.zero_grad()\n",
    "            \n",
    "        # Obtener batch de entrenamiento\n",
    "        if data_set == 'train':\n",
    "            training_batch = next(train_iter)\n",
    "        elif data_set == 'test':\n",
    "            training_batch = next(test_iter)\n",
    "        elif data_set == 'validation':\n",
    "            training_batch = next(val_iter)\n",
    "            \n",
    "        input_variable = training_batch.es\n",
    "        target_variable = training_batch.en\n",
    "        input_length, batch_size  = input_variable.size()\n",
    "        target_length = target_variable.size()[0]\n",
    "\n",
    "        # Encodear el input\n",
    "        encoder_outputs, encoder_hidden = encoder(input_variable, None)\n",
    "\n",
    "        # Crear variables para el input y output del decoder\n",
    "        decoder_input = Variable(torch.LongTensor([SOS_token] * batch_size)).cuda()\n",
    "        # Fix, las ultimas capas en caso de bidireccional\n",
    "        decoder_hidden = encoder_hidden[-decoder.n_layers:]\n",
    "        all_decoder_outputs = Variable(torch.zeros(\n",
    "            target_length, batch_size, decoder.output_size)).cuda()\n",
    "\n",
    "        # Se ejecuta el decoder en cada paso de la secuencia\n",
    "        for t in range(target_length):\n",
    "            decoder_output, decoder_hidden, decoder_att = decoder(\n",
    "                decoder_input, decoder_hidden, encoder_outputs\n",
    "            )\n",
    "\n",
    "            all_decoder_outputs[t] = decoder_output\n",
    "\n",
    "            if t < target_length-1:\n",
    "                # Usar teacher_forcing\n",
    "                use_tf = random.random() < tf_ratio\n",
    "                if use_tf:\n",
    "                    # De la data\n",
    "                    decoder_input = target_variable[t+1]\n",
    "                else:\n",
    "                    # Del modelo\n",
    "                    decoder_input = decoder_output.topk(1, 1)[1]\n",
    "\n",
    "        # Funcion de perdida\n",
    "        log_probs = F.log_softmax(all_decoder_outputs.view(-1, decoder.output_size))\n",
    "        loss = nn.NLLLoss()(log_probs, target_variable.view(-1))\n",
    "        avg_loss = avg_loss * avg_mom + loss.data[0] * (1-avg_mom)\n",
    "        debias_loss = avg_loss / (1 - avg_mom**(it+1))\n",
    "        write_training_loss(f'data/{model_name}_loss.csv', loss.data[0])\n",
    "        \n",
    "        # Optimizar parametros\n",
    "        if data_set == 'train':             \n",
    "            loss.backward()\n",
    "            nn.utils.clip_grad_norm(encoder.parameters(), gradient_clip)\n",
    "            nn.utils.clip_grad_norm(decoder.parameters(), gradient_clip)\n",
    "            encoder_scheduler.step()\n",
    "            decoder_scheduler.step()\n",
    "    \n",
    "    return avg_loss if it > 100 else debias_loss\n"
   ]
  },
  {
   "cell_type": "code",
   "execution_count": 10,
   "metadata": {},
   "outputs": [],
   "source": [
    "def predict(batch, max_target_length=train_max_length):\n",
    "    input_length, batch_size  = batch.size()\n",
    "    target_length = min(train_max_length, input_length*2)\n",
    "    eos_check = torch.LongTensor([EOS_token] * batch_size).cuda()\n",
    "    outputs = []\n",
    "    attn = []\n",
    "    done = set()\n",
    "    \n",
    "    # Encodear el input\n",
    "    encoder_outputs, encoder_hidden = encoder(batch, None)\n",
    "\n",
    "    # Crear variables para el input y output del decoder\n",
    "    decoder_input = Variable(torch.LongTensor([SOS_token] * batch_size)).cuda()\n",
    "    # Fix, las ultimas capas en caso de bidireccional\n",
    "    decoder_hidden = encoder_hidden[-decoder.n_layers:]\n",
    "\n",
    "    # Se ejecuta el decoder en cada paso de la secuencia\n",
    "    for t in range(target_length):\n",
    "        decoder_output, decoder_hidden, decoder_att = decoder(\n",
    "            decoder_input, decoder_hidden, encoder_outputs\n",
    "        )\n",
    "\n",
    "        if t < target_length-1:\n",
    "            # Nuevos inputs en la secuencia\n",
    "            decoder_input = decoder_output.topk(1, 1)[1]\n",
    "            outputs.append(decoder_input)\n",
    "            attn.append(decoder_att)\n",
    "            # Validar elementos del batch que hallan acabado (EOS)\n",
    "            step_eos = decoder_input.data.cpu().numpy() == EN.vocab.stoi['<eos>']\n",
    "            eos_idxs = np.where(step_eos)[0]\n",
    "            for idx in eos_idxs: done.add(idx)\n",
    "        \n",
    "        if len(done) == batch_size:\n",
    "            # Si todo el batch tiene eos terminar\n",
    "            break\n",
    "            \n",
    "    \n",
    "    outputs = torch.cat(outputs, 1).transpose(0, 1).data.cpu().numpy() # output_seq x batch_size\n",
    "    attn = torch.cat(attn, 1).data.cpu().numpy() # batch_size x output_seq x input_seq\n",
    "    \n",
    "    return outputs, attn"
   ]
  },
  {
   "cell_type": "code",
   "execution_count": 11,
   "metadata": {
    "collapsed": true
   },
   "outputs": [],
   "source": [
    "perplexity = lambda x: math.exp(float(x)) if x < 300 else float(\"inf\")\n",
    "\n",
    "def train(epochs, model_name, tf_ratio=1.0, tf_epoch_end=0, results_each=5,\n",
    "          n_examples=3, save_each=5, epoch_batchs_test=10, gradient_clip=5.0):\n",
    "    t0 = time()\n",
    "    results = {}\n",
    "    train_loss = []\n",
    "    test_loss = []\n",
    "    zeros = int(math.log10(epochs)) + 1\n",
    "    \n",
    "    # teacher forcing interpolation\n",
    "    tf = np.zeros(epochs)\n",
    "    tf[:tf_epoch_end] = np.linspace(tf_ratio, 0, tf_epoch_end)\n",
    "    \n",
    "    try:\n",
    "        for i in tnrange(epochs, desc='Training'):\n",
    "            # Entrenar una epoca\n",
    "            l = train_epoch(f'Epoch {i+1:0{zeros}}', epoch_batchs_train,\n",
    "                            tf[i], gradient_clip)\n",
    "            train_loss.append(l)\n",
    "\n",
    "            # Evaluar perdida en el test set (sin teacher forcing)\n",
    "            l = train_epoch(f'Test Loss', epoch_batchs_test,\n",
    "                            0, gradient_clip, data_set='test')\n",
    "            test_loss.append(l)\n",
    "\n",
    "            # Guardar modelo\n",
    "            if (i+1) % save_each == 0:\n",
    "                torch.save(encoder.state_dict(), f'data/{model_name}_encoder.pkl')\n",
    "                torch.save(decoder.state_dict(), f'data/{model_name}_decoder.pkl')\n",
    "\n",
    "            # Mostrar resultados\n",
    "            if (i+1) % results_each == 0:\n",
    "                print('Teacher forcing ratio=%.2f' % tf[i])\n",
    "                print('Train loss=%.5f, perplexity=%.5f' %\n",
    "                      (train_loss[-1], perplexity(train_loss[-1])))\n",
    "                print('Test  loss=%.5f, perplexity=%.5f\\n' %\n",
    "                      (test_loss[-1], perplexity(test_loss[-1])))\n",
    "\n",
    "                # Ejemplos de traduccion\n",
    "                examples = next(train_iter)\n",
    "                examples_es = examples.es[:,:n_examples]\n",
    "                examples_en = examples.en[:,:n_examples].data.cpu().numpy()\n",
    "                predicted, _ = predict(examples_es)\n",
    "                examples_es = examples_es.data.cpu().numpy()\n",
    "                for j in range(n_examples):\n",
    "                    print(' '.join([es_dict[w] for w in examples_es[:, j]]))\n",
    "                    print('Result -> ', ' '.join([en_dict[w] for w in predicted[:, j]]))\n",
    "                    print('Target -> ', ' '.join([en_dict[w] for w in examples_en[:, j]]), '\\n')\n",
    "        \n",
    "            write_training_log(f'data/{model_name}_log.csv', i+1,\n",
    "                               tf[i], train_loss[-1], test_loss[-1])\n",
    "            \n",
    "    except KeyboardInterrupt:\n",
    "        print('Interrupted at epoch: %d' % (i+1))\n",
    "        \n",
    "    results['train_loss'] = train_loss\n",
    "    results['test_loss'] = test_loss\n",
    "        \n",
    "    torch.save(encoder.state_dict(), f'data/{model_name}_encoder.pkl')\n",
    "    torch.save(decoder.state_dict(), f'data/{model_name}_decoder.pkl')\n",
    "    \n",
    "    return results"
   ]
  },
  {
   "cell_type": "markdown",
   "metadata": {},
   "source": [
    "# Definir el modelo"
   ]
  },
  {
   "cell_type": "code",
   "execution_count": 12,
   "metadata": {},
   "outputs": [
    {
     "name": "stdout",
     "output_type": "stream",
     "text": [
      "EncoderRNN (\n",
      "  (embedding): Embedding(10264, 50)\n",
      "  (embedding_dropout): Dropout (p = 0.1)\n",
      "  (lineal): Linear (50 -> 300)\n",
      "  (rnn): GRU(300, 300, num_layers=2, dropout=0.1, bidirectional=True)\n",
      ")\n",
      "AttnDecoderRNN (\n",
      "  (embedding): Embedding(6548, 300)\n",
      "  (embedding_dropout): Dropout (p = 0.1)\n",
      "  (rnn): GRU(300, 300, num_layers=2, dropout=0.1)\n",
      "  (attention): Attention (\n",
      "    (att): Linear (300 -> 300)\n",
      "  )\n",
      "  (concat): Linear (600 -> 300)\n",
      "  (out): Linear (300 -> 6548)\n",
      ")\n"
     ]
    }
   ],
   "source": [
    "model_name = 'seq2seq'\n",
    "encoder_hidden = 300 # Tamaño de los vectores GloVe\n",
    "encoder_bi = True\n",
    "n_layers = 2\n",
    "lr = 0.001\n",
    "teacher_forcing_epoch_end = 5\n",
    "epochs = 10\n",
    "\n",
    "encoder = EncoderRNN(len(ES.vocab.itos), encoder_hidden, n_layers, bidirectional=encoder_bi).cuda()\n",
    "decoder = AttnDecoderRNN(len(EN.vocab.itos), encoder_hidden, n_layers).cuda()\n",
    "encoder_optimizer = torch.optim.Adam(encoder.parameters(), lr=lr)\n",
    "decoder_optimizer = torch.optim.Adam(decoder.parameters(), lr=lr)\n",
    "encoder_scheduler, decoder_scheduler = encoder_optimizer, decoder_optimizer\n",
    "print(encoder); print(decoder)"
   ]
  },
  {
   "cell_type": "code",
   "execution_count": 13,
   "metadata": {
    "collapsed": true
   },
   "outputs": [],
   "source": [
    "# Cargar pesos\n",
    "encoder.load_state_dict(torch.load(f'data/{model_name}_encoder.pkl'))\n",
    "decoder.load_state_dict(torch.load(f'data/{model_name}_decoder.pkl'))"
   ]
  },
  {
   "cell_type": "markdown",
   "metadata": {},
   "source": [
    "# Entrenamiento"
   ]
  },
  {
   "cell_type": "code",
   "execution_count": 13,
   "metadata": {},
   "outputs": [
    {
     "data": {
      "application/vnd.jupyter.widget-view+json": {
       "model_id": "fb7f9b44488a4c0a97ab9d387645ee88",
       "version_major": 2,
       "version_minor": 0
      },
      "text/plain": [
       "A Jupyter Widget"
      ]
     },
     "metadata": {},
     "output_type": "display_data"
    },
    {
     "data": {
      "application/vnd.jupyter.widget-view+json": {
       "model_id": "b2e8beb17dd64b5aa564e76d064d5ebc",
       "version_major": 2,
       "version_minor": 0
      },
      "text/plain": [
       "A Jupyter Widget"
      ]
     },
     "metadata": {},
     "output_type": "display_data"
    },
    {
     "data": {
      "application/vnd.jupyter.widget-view+json": {
       "model_id": "61ef140d92b64888b45fc1eb60b170e6",
       "version_major": 2,
       "version_minor": 0
      },
      "text/plain": [
       "A Jupyter Widget"
      ]
     },
     "metadata": {},
     "output_type": "display_data"
    },
    {
     "data": {
      "application/vnd.jupyter.widget-view+json": {
       "model_id": "9bc57bb71dd34454b9c2b87639b10ee5",
       "version_major": 2,
       "version_minor": 0
      },
      "text/plain": [
       "A Jupyter Widget"
      ]
     },
     "metadata": {},
     "output_type": "display_data"
    },
    {
     "data": {
      "application/vnd.jupyter.widget-view+json": {
       "model_id": "76f65630fbbe486e84518b89c6387611",
       "version_major": 2,
       "version_minor": 0
      },
      "text/plain": [
       "A Jupyter Widget"
      ]
     },
     "metadata": {},
     "output_type": "display_data"
    },
    {
     "data": {
      "application/vnd.jupyter.widget-view+json": {
       "model_id": "cc13365711d24ed2a96c25b230ce49ec",
       "version_major": 2,
       "version_minor": 0
      },
      "text/plain": [
       "A Jupyter Widget"
      ]
     },
     "metadata": {},
     "output_type": "display_data"
    },
    {
     "data": {
      "application/vnd.jupyter.widget-view+json": {
       "model_id": "47e6bc7bbb524dffaf95a47662f5c164",
       "version_major": 2,
       "version_minor": 0
      },
      "text/plain": [
       "A Jupyter Widget"
      ]
     },
     "metadata": {},
     "output_type": "display_data"
    },
    {
     "data": {
      "application/vnd.jupyter.widget-view+json": {
       "model_id": "886b9d065a774a2da44e5948da0ba0b7",
       "version_major": 2,
       "version_minor": 0
      },
      "text/plain": [
       "A Jupyter Widget"
      ]
     },
     "metadata": {},
     "output_type": "display_data"
    },
    {
     "data": {
      "application/vnd.jupyter.widget-view+json": {
       "model_id": "9d0105d2b469421cb31588ea4b3c4977",
       "version_major": 2,
       "version_minor": 0
      },
      "text/plain": [
       "A Jupyter Widget"
      ]
     },
     "metadata": {},
     "output_type": "display_data"
    },
    {
     "data": {
      "application/vnd.jupyter.widget-view+json": {
       "model_id": "e23126b9370146998c3bfbb9a76580d0",
       "version_major": 2,
       "version_minor": 0
      },
      "text/plain": [
       "A Jupyter Widget"
      ]
     },
     "metadata": {},
     "output_type": "display_data"
    },
    {
     "data": {
      "application/vnd.jupyter.widget-view+json": {
       "model_id": "0ff6a72b62cf47ac8ade6746ebab1e77",
       "version_major": 2,
       "version_minor": 0
      },
      "text/plain": [
       "A Jupyter Widget"
      ]
     },
     "metadata": {},
     "output_type": "display_data"
    },
    {
     "name": "stdout",
     "output_type": "stream",
     "text": [
      "Teacher forcing ratio=0.00\n",
      "Train loss=2.66673, perplexity=14.39279\n",
      "Test  loss=2.36533, perplexity=10.64756\n",
      "\n",
      "¿ por qué debería preocuparme de qué hace tom ?\n",
      "Result ->  <sos> why should you you what tom tom ? <eos> <eos>\n",
      "Target ->  <sos> why should i care what tom does ? <eos> <pad> \n",
      "\n",
      "¿ cuál es tu canción de rock <unk> favorita ?\n",
      "Result ->  <sos> what 's your favorite a a ? <eos> <eos> <eos>\n",
      "Target ->  <sos> what is your favorite <unk> rock song ? <eos> <pad> \n",
      "\n",
      "deberíamos estar en chicago para la hora de comer .\n",
      "Result ->  <sos> we should be in to the the . . <eos>\n",
      "Target ->  <sos> we should get to chicago by lunchtime . <eos> <pad> \n",
      "\n"
     ]
    },
    {
     "data": {
      "application/vnd.jupyter.widget-view+json": {
       "model_id": "6c93caf3884f4f23b9b2505b5d639ff3",
       "version_major": 2,
       "version_minor": 0
      },
      "text/plain": [
       "A Jupyter Widget"
      ]
     },
     "metadata": {},
     "output_type": "display_data"
    },
    {
     "data": {
      "application/vnd.jupyter.widget-view+json": {
       "model_id": "edb5fbe3d50d47d2873b6ad8614e8e41",
       "version_major": 2,
       "version_minor": 0
      },
      "text/plain": [
       "A Jupyter Widget"
      ]
     },
     "metadata": {},
     "output_type": "display_data"
    },
    {
     "data": {
      "application/vnd.jupyter.widget-view+json": {
       "model_id": "7a1d2be52b494be8bf515f5cbd02038f",
       "version_major": 2,
       "version_minor": 0
      },
      "text/plain": [
       "A Jupyter Widget"
      ]
     },
     "metadata": {},
     "output_type": "display_data"
    },
    {
     "data": {
      "application/vnd.jupyter.widget-view+json": {
       "model_id": "b56d86314ff94ffc87c5e0c929836d9f",
       "version_major": 2,
       "version_minor": 0
      },
      "text/plain": [
       "A Jupyter Widget"
      ]
     },
     "metadata": {},
     "output_type": "display_data"
    },
    {
     "data": {
      "application/vnd.jupyter.widget-view+json": {
       "model_id": "13ab184e4f09482ebfbdaf82aea98ca3",
       "version_major": 2,
       "version_minor": 0
      },
      "text/plain": [
       "A Jupyter Widget"
      ]
     },
     "metadata": {},
     "output_type": "display_data"
    },
    {
     "data": {
      "application/vnd.jupyter.widget-view+json": {
       "model_id": "8ada04159f0c4e03bcd41151ca945858",
       "version_major": 2,
       "version_minor": 0
      },
      "text/plain": [
       "A Jupyter Widget"
      ]
     },
     "metadata": {},
     "output_type": "display_data"
    },
    {
     "data": {
      "application/vnd.jupyter.widget-view+json": {
       "model_id": "5b45643d0e2e4b9fb211b1cb804c67a5",
       "version_major": 2,
       "version_minor": 0
      },
      "text/plain": [
       "A Jupyter Widget"
      ]
     },
     "metadata": {},
     "output_type": "display_data"
    },
    {
     "data": {
      "application/vnd.jupyter.widget-view+json": {
       "model_id": "119a9bf232b14b8fb2fe2fd322d17918",
       "version_major": 2,
       "version_minor": 0
      },
      "text/plain": [
       "A Jupyter Widget"
      ]
     },
     "metadata": {},
     "output_type": "display_data"
    },
    {
     "data": {
      "application/vnd.jupyter.widget-view+json": {
       "model_id": "d2c545e417484f459fcfca0d0407d6a8",
       "version_major": 2,
       "version_minor": 0
      },
      "text/plain": [
       "A Jupyter Widget"
      ]
     },
     "metadata": {},
     "output_type": "display_data"
    },
    {
     "data": {
      "application/vnd.jupyter.widget-view+json": {
       "model_id": "d31000d0b9b14366a02043b69633ec05",
       "version_major": 2,
       "version_minor": 0
      },
      "text/plain": [
       "A Jupyter Widget"
      ]
     },
     "metadata": {},
     "output_type": "display_data"
    },
    {
     "name": "stdout",
     "output_type": "stream",
     "text": [
      "Teacher forcing ratio=0.00\n",
      "Train loss=2.23930, perplexity=9.38680\n",
      "Test  loss=2.01796, perplexity=7.52297\n",
      "\n",
      "los padres de tom <unk> que mary era demasiado mayor para él .\n",
      "Result ->  <sos> tom 's parents heard mary was too for for for for for for <pad> <eos> <pad> <pad> <pad> <pad> <pad> <pad> <pad> <pad>\n",
      "Target ->  <sos> tom 's parents thought that mary was too old for him . <eos> <pad> <pad> <pad> \n",
      "\n",
      "vuelve antes de la medianoche o te vas a quedar encerrado afuera .\n",
      "Result ->  <sos> go until until the the , you . you . . <eos> <eos> <pad> <pad> <pad> <pad> <pad> <pad> <pad> <pad> <pad> <pad>\n",
      "Target ->  <sos> get back before midnight , or you will be locked out . <eos> <pad> <pad> <pad> \n",
      "\n",
      "cuando llegaron a la estación , el tren ya se había ido .\n",
      "Result ->  <sos> when he arrived to train train train train train . . . <eos> <eos> <pad> <pad> <pad> <pad> <pad> <pad> <pad> <pad> <pad>\n",
      "Target ->  <sos> when they got to the station , the train had already left . <eos> <pad> <pad> \n",
      "\n",
      "\n"
     ]
    }
   ],
   "source": [
    "results = train(epochs, model_name, tf_epoch_end=teacher_forcing_epoch_end, save_each=1)"
   ]
  },
  {
   "cell_type": "code",
   "execution_count": 32,
   "metadata": {},
   "outputs": [
    {
     "data": {
      "image/png": "[encoded data removed]",
      "text/plain": [
       "<matplotlib.figure.Figure at 0x7f9edba0c748>"
      ]
     },
     "metadata": {},
     "output_type": "display_data"
    }
   ],
   "source": [
    "plt.figure(figsize=(12,4))\n",
    "plt.plot(results['train_loss'], label='train')\n",
    "plt.plot(results['test_loss'], label='test')\n",
    "plt.legend();"
   ]
  },
  {
   "cell_type": "markdown",
   "metadata": {},
   "source": [
    "# Beam Search"
   ]
  },
  {
   "cell_type": "code",
   "execution_count": 91,
   "metadata": {},
   "outputs": [],
   "source": [
    "def predict_beamsearch(input_word, encode=False, beams=3, max_target_length=train_max_length):\n",
    "    if encode:\n",
    "        input_word = [ES.vocab.stoi[t] for t in ES.tokenize(input_word)]\n",
    "        input_word = Variable(torch.LongTensor(input_word).unsqueeze(1)).cuda()\n",
    "    \n",
    "    route = []\n",
    "    input_length, v = input_word.size()\n",
    "    assert v == 1, 'Only 1 word atm'\n",
    "    \n",
    "    target_length = min(train_max_length, input_length*2)\n",
    "    encoder_outputs, encoder_hidden = encoder(input_word, None)\n",
    "    decoder_input = Variable(torch.LongTensor([SOS_token])).cuda()\n",
    "    decoder_hidden = encoder_hidden[-decoder.n_layers:]\n",
    "    outputs = decoder_input.repeat(beams,1)\n",
    "    eos_check = torch.LongTensor([EOS_token] * batch_size).cuda()\n",
    "\n",
    "    scores, decoder_input, decoder_hidden, attn, keep = get_beam(\n",
    "        decoder_input, decoder_hidden, encoder_outputs, beams, None, True)\n",
    "    route.append(keep)\n",
    "    \n",
    "    for t in range(target_length-1):\n",
    "        scores, decoder_input, decoder_hidden, att, keep = get_beam(\n",
    "            decoder_input, decoder_hidden, encoder_outputs, beams, scores)\n",
    "        route.append(keep.data.tolist())\n",
    "        attn = torch.cat([attn[keep/beams],att],1)\n",
    "        outputs = torch.cat([outputs[keep/beams],decoder_input.unsqueeze(1)],1)\n",
    "        if torch.sum(torch.sum(outputs == 3, 1) > 0).data[0] == beams: break\n",
    "        \n",
    "    outputs = outputs.data.cpu().numpy()\n",
    "    attn = attn.data.cpu().numpy()\n",
    "    scores = scores.data.tolist()\n",
    "    route = np.array(route).transpose()\n",
    "    \n",
    "    return outputs, attn, scores, route\n",
    "\n",
    "def get_beam(decoder_input, decoder_hidden, encoder_outputs,\n",
    "             beams, p_scores, first=False):\n",
    "    if not first:\n",
    "        encoder_outputs = encoder_outputs.repeat(1,beams,1)\n",
    "    \n",
    "    decoder_output, decoder_hidden, decoder_att = decoder(\n",
    "        decoder_input, decoder_hidden, encoder_outputs\n",
    "    )\n",
    "    scores, decoder_input = decoder_output.topk(beams, 1)\n",
    "    \n",
    "    if first:\n",
    "        decoder_hidden = decoder_hidden.repeat(1,beams,1)\n",
    "        decoder_att = decoder_att.repeat(beams,1,1)\n",
    "        keep = [0]*beams\n",
    "    else:\n",
    "        # manter los top beam resultados\n",
    "        scores = scores + p_scores.unsqueeze(1)\n",
    "        scores, keep = scores.view(-1).topk(beams)\n",
    "        decoder_att = decoder_att[keep/beams]\n",
    "        decoder_hidden = decoder_hidden[:,(keep/beams).data.tolist(),:]\n",
    "        decoder_input = decoder_input.view(-1)[keep]\n",
    "        \n",
    "    scores = scores.view(-1)\n",
    "    decoder_input = decoder_input.view(-1)\n",
    "    \n",
    "    return scores, decoder_input, decoder_hidden, decoder_att, keep"
   ]
  },
  {
   "cell_type": "markdown",
   "metadata": {},
   "source": [
    "## Beam test"
   ]
  },
  {
   "cell_type": "code",
   "execution_count": 15,
   "metadata": {
    "collapsed": true
   },
   "outputs": [],
   "source": [
    "val_buckets = data.BucketIterator(ds_val, 1,\n",
    "    sort_key=lambda x: data.interleave_keys(len(x.es), len(x.en)))\n",
    "val_iter = iter(val_buckets)"
   ]
  },
  {
   "cell_type": "code",
   "execution_count": 32,
   "metadata": {},
   "outputs": [
    {
     "name": "stdout",
     "output_type": "stream",
     "text": [
      "Beam 1 (118.54):\n",
      "Source: ¿ qué intenta esconder ?\n",
      "Target: <sos> what are you trying to hide ? <eos>\n",
      "Result: <sos> which needs trying to hide ? <eos> <eos>\n",
      "Beam 2 (118.50):\n",
      "Source: ¿ qué intenta esconder ?\n",
      "Target: <sos> what are you trying to hide ? <eos>\n",
      "Result: <sos> which needs to hide to ? <eos> <eos>\n",
      "Beam 3 (118.44):\n",
      "Source: ¿ qué intenta esconder ?\n",
      "Target: <sos> what are you trying to hide ? <eos>\n",
      "Result: <sos> which needs to hide to ? ? <eos>\n",
      "Beam 4 (118.33):\n",
      "Source: ¿ qué intenta esconder ?\n",
      "Target: <sos> what are you trying to hide ? <eos>\n",
      "Result: <sos> which needs trying to hide ? ? <eos>\n",
      "Beam 5 (118.32):\n",
      "Source: ¿ qué intenta esconder ?\n",
      "Target: <sos> what are you trying to hide ? <eos>\n",
      "Result: <sos> what could to hide to ? <eos> <eos>\n"
     ]
    }
   ],
   "source": [
    "example = next(val_iter)\n",
    "example_es = example.es\n",
    "example_en = example.en.data.cpu().numpy()\n",
    "outputs, attn, scores, _ = predict_beamsearch(example_es, beams=5)\n",
    "example_es = example_es.data.cpu().numpy()\n",
    "ex = [es_dict[w] for w in example_es[:, 0]]\n",
    "ex_target = [en_dict[w] for w in example_en[:, 0]]\n",
    "\n",
    "for i, (o, s) in enumerate(zip(outputs, scores)):\n",
    "    print('Beam %d (%.2f):' % (i+1, s))\n",
    "    ex_result = [en_dict[w] for w in o]\n",
    "    print('Source:', ' '.join(ex))\n",
    "    print('Target:', ' '.join(ex_target))\n",
    "    print('Result:', ' '.join(ex_result))"
   ]
  },
  {
   "cell_type": "markdown",
   "metadata": {},
   "source": [
    "# Ver resultados"
   ]
  },
  {
   "cell_type": "code",
   "execution_count": 38,
   "metadata": {},
   "outputs": [
    {
     "name": "stdout",
     "output_type": "stream",
     "text": [
      "Source: tom vio a mary llorando .\n",
      "Target: <sos> tom saw mary crying . <eos>\n",
      "Result: <sos> tom saw mary crying . <eos> <eos>\n"
     ]
    },
    {
     "data": {
      "image/png": "[encoded data removed]",
      "text/plain": [
       "<matplotlib.figure.Figure at 0x7fc985240588>"
      ]
     },
     "metadata": {},
     "output_type": "display_data"
    },
    {
     "name": "stdout",
     "output_type": "stream",
     "text": [
      "Source: él necesita una salida más <unk> para su <unk> .\n",
      "Target: <sos> he needs a more productive <unk> for his anger . <eos>\n",
      "Result: <sos> he needs some <unk> more his his his his his . <eos> <eos> <pad>\n"
     ]
    },
    {
     "data": {
      "image/png": "[encoded data removed]",
      "text/plain": [
       "<matplotlib.figure.Figure at 0x7fc984ee0438>"
      ]
     },
     "metadata": {},
     "output_type": "display_data"
    },
    {
     "name": "stdout",
     "output_type": "stream",
     "text": [
      "Source: esperé en vano toda la tarde .\n",
      "Target: <sos> i waited all afternoon in vain . <eos>\n",
      "Result: <sos> i waited for the all the . . . <eos> <eos>\n"
     ]
    },
    {
     "data": {
      "image/png": "[encoded data removed]",
      "text/plain": [
       "<matplotlib.figure.Figure at 0x7fc985094d68>"
      ]
     },
     "metadata": {},
     "output_type": "display_data"
    }
   ],
   "source": [
    "beams = 5\n",
    "examples = 3\n",
    "\n",
    "for _ in range(examples):\n",
    "    example = next(val_iter)\n",
    "    example_es = example.es\n",
    "    example_en = example.en.data.cpu().numpy()\n",
    "    outputs, attn, *_ = predict_beamsearch(example_es, beams=5)\n",
    "    example_es = example_es.data.cpu().numpy()\n",
    "    ex = [es_dict[w] for w in example_es[:, 0]]\n",
    "    ex_target = [en_dict[w] for w in example_en[:, 0]]\n",
    "    ex_result = [en_dict[w] for w in outputs[0]]\n",
    "    print('Source:', ' '.join(ex))\n",
    "    print('Target:', ' '.join(ex_target))\n",
    "    print('Result:', ' '.join(ex_result))\n",
    "    show_attn(attn[0], ex, ex_result)"
   ]
  },
  {
   "cell_type": "markdown",
   "metadata": {},
   "source": [
    "# Probar"
   ]
  },
  {
   "cell_type": "code",
   "execution_count": 113,
   "metadata": {},
   "outputs": [
    {
     "name": "stdout",
     "output_type": "stream",
     "text": [
      "Source: ¿qué hora es?\n",
      "Result: <sos> what time is it ? <eos> <eos>\n"
     ]
    },
    {
     "data": {
      "image/png": "[encoded data removed]",
      "text/plain": [
       "<matplotlib.figure.Figure at 0x7fc985230e10>"
      ]
     },
     "metadata": {},
     "output_type": "display_data"
    }
   ],
   "source": [
    "sentence = '¿qué hora es?'\n",
    "outputs, attn, *_ = predict_beamsearch(sentence, beams=5, encode=True)\n",
    "ex_result = [en_dict[w] for w in outputs[0]]\n",
    "print('Source:', sentence)\n",
    "print('Result:', ' '.join(ex_result))\n",
    "show_attn(attn[0], ES.tokenize(sentence), ex_result)"
   ]
  }
 ],
 "metadata": {
  "kernelspec": {
   "display_name": "Python 3",
   "language": "python",
   "name": "python3"
  },
  "language_info": {
   "codemirror_mode": {
    "name": "ipython",
    "version": 3
   },
   "file_extension": ".py",
   "mimetype": "text/x-python",
   "name": "python",
   "nbconvert_exporter": "python",
   "pygments_lexer": "ipython3",
   "version": "3.6.3"
  }
 },
 "nbformat": 4,
 "nbformat_minor": 2
}
