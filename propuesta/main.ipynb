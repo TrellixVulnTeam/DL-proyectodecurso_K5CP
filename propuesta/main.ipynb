{
 "cells": [
  {
   "cell_type": "markdown",
   "metadata": {},
   "source": [
    "# Librerias"
   ]
  },
  {
   "cell_type": "code",
   "execution_count": 1,
   "metadata": {},
   "outputs": [],
   "source": [
    "import torch, random, math\n",
    "import numpy as np\n",
    "import pandas as pd\n",
    "import torch.nn.functional as F\n",
    "from tqdm import tnrange\n",
    "from time import time\n",
    "from torch import nn\n",
    "from torchtext import data\n",
    "from torch.autograd import Variable\n",
    "from torch.optim.lr_scheduler import StepLR\n",
    "from iseq2seq.utils import load_anki_dataset, write_training_log, write_training_loss, show_attn\n",
    "\n",
    "import matplotlib.pyplot as plt\n",
    "%matplotlib inline"
   ]
  },
  {
   "cell_type": "markdown",
   "metadata": {},
   "source": [
    "# Cargar data"
   ]
  },
  {
   "cell_type": "code",
   "execution_count": 2,
   "metadata": {},
   "outputs": [
    {
     "data": {
      "text/plain": [
       "801"
      ]
     },
     "execution_count": 2,
     "metadata": {},
     "output_type": "execute_result"
    }
   ],
   "source": [
    "batch_size = 128\n",
    "data_path = 'data/dataset.pkl'\n",
    "\n",
    "ds_train, ds_test, ds_val, ES, EN = load_anki_dataset(data_path)\n",
    "es_dict = {v:k for k,v in ES.vocab.stoi.items()}\n",
    "en_dict = {v:k for k,v in EN.vocab.stoi.items()}\n",
    "\n",
    "train_buckets = data.BucketIterator(ds_train, batch_size,\n",
    "    sort_key=lambda x: data.interleave_keys(len(x.es), len(x.en)))\n",
    "test_buckets = data.BucketIterator(ds_test, batch_size,\n",
    "    sort_key=lambda x: data.interleave_keys(len(x.es), len(x.en)))\n",
    "val_buckets = data.BucketIterator(ds_val, batch_size,\n",
    "    sort_key=lambda x: data.interleave_keys(len(x.es), len(x.en)))\n",
    "train_iter = iter(train_buckets)\n",
    "test_iter = iter(test_buckets)\n",
    "val_iter = iter(val_buckets)\n",
    "epoch_batchs_train = math.ceil(len(train_buckets.dataset.examples) / train_buckets.batch_size)\n",
    "epoch_batchs_train"
   ]
  },
  {
   "cell_type": "code",
   "execution_count": 3,
   "metadata": {},
   "outputs": [
    {
     "data": {
      "text/plain": [
       "25"
      ]
     },
     "execution_count": 3,
     "metadata": {},
     "output_type": "execute_result"
    }
   ],
   "source": [
    "train_max_length = 0\n",
    "\n",
    "for ex in train_buckets.dataset.examples:\n",
    "    train_max_length = max(train_max_length, len(ex.en))\n",
    "    \n",
    "train_max_length"
   ]
  },
  {
   "cell_type": "code",
   "execution_count": 4,
   "metadata": {},
   "outputs": [
    {
     "data": {
      "text/plain": [
       "(2, 3)"
      ]
     },
     "execution_count": 4,
     "metadata": {},
     "output_type": "execute_result"
    }
   ],
   "source": [
    "SOS_token = EN.vocab.stoi['<sos>']\n",
    "EOS_token = EN.vocab.stoi['<eos>']\n",
    "SOS_token, EOS_token"
   ]
  },
  {
   "cell_type": "markdown",
   "metadata": {},
   "source": [
    "# Cargar Embeddings (GloVe)\n",
    "\n",
    "Necesita:\n",
    "* python -m spacy download en\n",
    "* python -m spacy download es"
   ]
  },
  {
   "cell_type": "code",
   "execution_count": 5,
   "metadata": {},
   "outputs": [
    {
     "name": "stdout",
     "output_type": "stream",
     "text": [
      "Spanish embeddings: torch.Size([10264, 50]) found: 10135\n",
      "English embeddings: torch.Size([6548, 300]) found: 4574\n"
     ]
    }
   ],
   "source": [
    "import spacy\n",
    "\n",
    "spacy_es = spacy.load('es')\n",
    "spacy_en = spacy.load('en')\n",
    "\n",
    "def create_emb(lang_model, vocab, dim_vec):\n",
    "    vocab_size = len(vocab.itos)\n",
    "    emb = np.zeros((vocab_size, dim_vec))\n",
    "    found = 0\n",
    "\n",
    "    for i, word in enumerate(vocab.itos):\n",
    "        w = lang_model(word)\n",
    "        if w.has_vector:\n",
    "            emb[i] = lang_model(word).vector\n",
    "            found += 1\n",
    "        else:\n",
    "            # Si no se encuentra una palabra en los embeddings\n",
    "            # entrenados, se usa un vector random.\n",
    "            emb[i] = np.random.normal(scale=0.6, size=(dim_vec,))\n",
    "\n",
    "    return torch.from_numpy(emb), found\n",
    "\n",
    "emb_es, found_es = create_emb(spacy_es, ES.vocab, 50)\n",
    "print('Spanish embeddings:', emb_es.shape, 'found:', found_es)\n",
    "emb_en, found_en = create_emb(spacy_en, EN.vocab, 300)\n",
    "print('English embeddings:', emb_en.shape, 'found:', found_en)"
   ]
  },
  {
   "cell_type": "markdown",
   "metadata": {},
   "source": [
    "# MODELS:"
   ]
  },
  {
   "cell_type": "code",
   "execution_count": 6,
   "metadata": {
    "collapsed": true
   },
   "outputs": [],
   "source": [
    "def load_emb(emb_mat):\n",
    "    output_size, emb_size = emb_mat.size()\n",
    "    emb = nn.Embedding(output_size, emb_size)\n",
    "    emb.load_state_dict({'weight': emb_mat})\n",
    "\n",
    "    return emb"
   ]
  },
  {
   "cell_type": "markdown",
   "metadata": {},
   "source": [
    "# Encoder"
   ]
  },
  {
   "cell_type": "code",
   "execution_count": 7,
   "metadata": {
    "collapsed": true
   },
   "outputs": [],
   "source": [
    "class EncoderRNN(nn.Module):\n",
    "    def __init__(self, input_size, hidden_size, n_layers=1, bidirectional=False,\n",
    "                 embedding_dropout=0.1, rnn_dropout=0.1):\n",
    "        super(EncoderRNN, self).__init__()\n",
    "        self.input_size = input_size\n",
    "        self.hidden_size = hidden_size\n",
    "        self.n_layers = n_layers\n",
    "        self.bidirectional = bidirectional\n",
    "        self.embedding_dropout = embedding_dropout\n",
    "        self.rnn_dropout = rnn_dropout\n",
    "        \n",
    "        # Layers\n",
    "        self.embedding = load_emb(emb_es)\n",
    "        self.embedding_dropout = nn.Dropout(embedding_dropout)\n",
    "        self.lineal = nn.Linear(50, hidden_size) # 50 word_vec spanish\n",
    "        self.rnn = nn.GRU(hidden_size, hidden_size, num_layers=n_layers,\n",
    "                          bidirectional=bidirectional, dropout=rnn_dropout)\n",
    "        \n",
    "    def forward(self, input, hidden):\n",
    "        embs = self.embedding(input)\n",
    "        embs = self.embedding_dropout(embs)\n",
    "        embs = self.lineal(embs)\n",
    "        output, hidden = self.rnn(embs, hidden)\n",
    "        if self.bidirectional:\n",
    "            # En caso el encoder sea bidireccional, se suman los outputs\n",
    "            # en vez de concatenarlos.\n",
    "            output = output[:, :, :self.hidden_size] + output[:, : ,self.hidden_size:]\n",
    "        \n",
    "        return output, hidden"
   ]
  },
  {
   "cell_type": "markdown",
   "metadata": {},
   "source": [
    "# Attention Decoder"
   ]
  },
  {
   "cell_type": "code",
   "execution_count": 8,
   "metadata": {
    "collapsed": true
   },
   "outputs": [],
   "source": [
    "class Attention(nn.Module):\n",
    "    def __init__(self, method, hidden_size):\n",
    "        super(Attention, self).__init__()\n",
    "        self.method = method\n",
    "        self.hidden_size = hidden_size\n",
    "        \n",
    "        # metodos definidos en https://arxiv.org/pdf/1508.04025.pdf\n",
    "        assert method in ('dot', 'general', 'concat'), 'invalid attention method'\n",
    "        \n",
    "        # Layers\n",
    "        if self.method == 'general':\n",
    "            self.att = nn.Linear(self.hidden_size, hidden_size)\n",
    "\n",
    "        elif self.method == 'concat':\n",
    "            self.att = nn.Linear(self.hidden_size * 2, hidden_size)\n",
    "            self.v = nn.Parameter(torch.FloatTensor(1, hidden_size))\n",
    "\n",
    "    def forward(self, hidden, encoder_outputs):\n",
    "        max_len = encoder_outputs.size(0)\n",
    "        this_batch_size = encoder_outputs.size(1)\n",
    "\n",
    "        # Se inicializa las energias de atencion y se calculan en cada elemento del batch\n",
    "        att_energies = Variable(torch.zeros(this_batch_size, max_len)).cuda()\n",
    "\n",
    "        for b in range(this_batch_size): # por cada elemento b del batch\n",
    "            for i in range(max_len): # por cada paso i de la secuencia\n",
    "                att_energies[b, i] = self.score(hidden[:, b].squeeze(0),\n",
    "                                                encoder_outputs[i, b])\n",
    "\n",
    "        # Se normalizan los pesos entre 0 y 1\n",
    "        return F.softmax(att_energies).unsqueeze(1)\n",
    "    \n",
    "    def score(self, hidden, encoder_output):\n",
    "        if self.method == 'dot':\n",
    "            energy = hidden.dot(encoder_output)\n",
    "            return energy\n",
    "        \n",
    "        elif self.method == 'general':\n",
    "            energy = self.att(encoder_output)\n",
    "            energy = hidden.dot(energy)\n",
    "            return energy\n",
    "        \n",
    "        elif self.method == 'concat':\n",
    "            energy = self.att(torch.cat((hidden, encoder_output), 1))\n",
    "            energy = self.v.dot(energy)\n",
    "            return energy\n",
    "\n",
    "class AttnDecoderRNN(nn.Module):\n",
    "    def __init__(self, output_size, hidden_size, n_layers=1,\n",
    "                 att_method='general', embedding_dropout=0.1, rnn_dropout=0.1):\n",
    "        super(AttnDecoderRNN, self).__init__()\n",
    "        self.output_size = output_size\n",
    "        self.hidden_size = hidden_size\n",
    "        self.n_layers = n_layers\n",
    "        self.att_method = att_method\n",
    "        self.embedding_dropout = embedding_dropout\n",
    "        self.rnn_dropout = rnn_dropout\n",
    "\n",
    "        # Layers\n",
    "        self.embedding = load_emb(emb_en)\n",
    "        self.embedding_dropout = nn.Dropout(embedding_dropout)\n",
    "        self.rnn = nn.GRU(hidden_size, hidden_size, n_layers, dropout=rnn_dropout)\n",
    "        self.attention = Attention(att_method, hidden_size)\n",
    "        self.concat = nn.Linear(hidden_size * 2, hidden_size)\n",
    "        self.out = nn.Linear(hidden_size, output_size)\n",
    "\n",
    "    def forward(self, input, last_hidden, encoder_outputs):\n",
    "        # ojo: input es el batch de los ultimos outputs, no es una secuencia\n",
    "        batch_size = input.size(0)\n",
    "        embs = self.embedding(input)\n",
    "        embs = self.embedding_dropout(embs)\n",
    "        embs = embs.view(1, batch_size, self.hidden_size)\n",
    "\n",
    "        # Se corre la RNN en el input con el ultimo hidden state\n",
    "        rnn_output, hidden = self.rnn(embs, last_hidden)\n",
    "        \n",
    "        # Se calcula la atencion y se aplica a las salidas del encoder\n",
    "        att_weights = self.attention(rnn_output, encoder_outputs)\n",
    "        context = att_weights.bmm(encoder_outputs.transpose(0, 1))\n",
    "        \n",
    "        # Se concatenan los valores de salida de la rnn y el contexto\n",
    "        concat_input = torch.cat((rnn_output.squeeze(0), context.squeeze(1)), 1)\n",
    "        concat_output = F.tanh(self.concat(concat_input))\n",
    "        output = self.out(concat_output)\n",
    "\n",
    "        return output, hidden, att_weights\n",
    "    "
   ]
  },
  {
   "cell_type": "markdown",
   "metadata": {},
   "source": [
    "# Training"
   ]
  },
  {
   "cell_type": "code",
   "execution_count": 9,
   "metadata": {
    "collapsed": true
   },
   "outputs": [],
   "source": [
    "def train_epoch(epoch_desc, epoch_batchs, tf_ratio, gradient_clip=5.0, data_set='train',\n",
    "                tqdm_enable=True):\n",
    "    avg_mom = 0.9\n",
    "    avg_loss = 0.0\n",
    "    debias_loss = 0.0\n",
    "    \n",
    "    if data_set == 'train':\n",
    "        encoder.train(True)\n",
    "        decoder.train(True)\n",
    "    else:\n",
    "        encoder.train(False)\n",
    "        decoder.train(False)\n",
    "    \n",
    "    if not tqdm_enable:\n",
    "        range_fun = range(epoch_batchs)\n",
    "    elif data_set == 'train':\n",
    "        range_fun = tnrange(epoch_batchs, desc=epoch_desc)\n",
    "    else:\n",
    "        range_fun = tnrange(epoch_batchs, desc=epoch_desc, leave=False)\n",
    "    \n",
    "    for it in range_fun:\n",
    "        if tqdm_enable:\n",
    "            range_fun.set_postfix(loss=debias_loss, teacher_forcing=tf_ratio)\n",
    "        \n",
    "        # Inicializar gradientes y perdida\n",
    "        if data_set == 'train':\n",
    "            encoder_optimizer.zero_grad()\n",
    "            decoder_optimizer.zero_grad()\n",
    "            \n",
    "        # Obtener batch de entrenamiento\n",
    "        if data_set == 'train':\n",
    "            training_batch = next(train_iter)\n",
    "        elif data_set == 'test':\n",
    "            training_batch = next(test_iter)\n",
    "        elif data_set == 'validation':\n",
    "            training_batch = next(val_iter)\n",
    "            \n",
    "        input_variable = training_batch.es\n",
    "        target_variable = training_batch.en\n",
    "        input_length, batch_size  = input_variable.size()\n",
    "        target_length = target_variable.size()[0]\n",
    "\n",
    "        # Encodear el input\n",
    "        encoder_outputs, encoder_hidden = encoder(input_variable, None)\n",
    "\n",
    "        # Crear variables para el input y output del decoder\n",
    "        decoder_input = Variable(torch.LongTensor([SOS_token] * batch_size)).cuda()\n",
    "        # Fix, las ultimas capas en caso de bidireccional\n",
    "        decoder_hidden = encoder_hidden[-decoder.n_layers:]\n",
    "        all_decoder_outputs = Variable(torch.zeros(\n",
    "            target_length, batch_size, decoder.output_size)).cuda()\n",
    "\n",
    "        # Se ejecuta el decoder en cada paso de la secuencia\n",
    "        for t in range(target_length):\n",
    "            decoder_output, decoder_hidden, decoder_att = decoder(\n",
    "                decoder_input, decoder_hidden, encoder_outputs\n",
    "            )\n",
    "\n",
    "            all_decoder_outputs[t] = decoder_output\n",
    "\n",
    "            if t < target_length-1:\n",
    "                # Usar teacher_forcing\n",
    "                use_tf = random.random() < tf_ratio\n",
    "                if use_tf:\n",
    "                    # De la data\n",
    "                    decoder_input = target_variable[t+1]\n",
    "                else:\n",
    "                    # Del modelo\n",
    "                    decoder_input = decoder_output.topk(1, 1)[1]\n",
    "\n",
    "        # Funcion de perdida\n",
    "        log_probs = F.log_softmax(all_decoder_outputs.view(-1, decoder.output_size))\n",
    "        loss = nn.NLLLoss()(log_probs, target_variable.view(-1))\n",
    "        avg_loss = avg_loss * avg_mom + loss.data[0] * (1-avg_mom)\n",
    "        debias_loss = avg_loss / (1 - avg_mom**(it+1))\n",
    "        write_training_loss(f'data/{model_name}_loss.csv', loss.data[0])\n",
    "        \n",
    "        # Optimizar parametros\n",
    "        if data_set == 'train':             \n",
    "            loss.backward()\n",
    "            nn.utils.clip_grad_norm(encoder.parameters(), gradient_clip)\n",
    "            nn.utils.clip_grad_norm(decoder.parameters(), gradient_clip)\n",
    "            encoder_scheduler.step()\n",
    "            decoder_scheduler.step()\n",
    "    \n",
    "    return avg_loss if it > 100 else debias_loss\n"
   ]
  },
  {
   "cell_type": "code",
   "execution_count": 10,
   "metadata": {
    "collapsed": true
   },
   "outputs": [],
   "source": [
    "def predict(batch, max_target_length=train_max_length):\n",
    "    input_length, batch_size  = batch.size()\n",
    "    target_length = min(train_max_length, input_length*2)\n",
    "    eos_check = torch.LongTensor([EOS_token] * batch_size).cuda()\n",
    "    outputs = []\n",
    "    attn = []\n",
    "    done = set()\n",
    "    \n",
    "    # Encodear el input\n",
    "    encoder_outputs, encoder_hidden = encoder(batch, None)\n",
    "\n",
    "    # Crear variables para el input y output del decoder\n",
    "    decoder_input = Variable(torch.LongTensor([SOS_token] * batch_size)).cuda()\n",
    "    # Fix, las ultimas capas en caso de bidireccional\n",
    "    decoder_hidden = encoder_hidden[-decoder.n_layers:]\n",
    "\n",
    "    # Se ejecuta el decoder en cada paso de la secuencia\n",
    "    for t in range(target_length):\n",
    "        decoder_output, decoder_hidden, decoder_att = decoder(\n",
    "            decoder_input, decoder_hidden, encoder_outputs\n",
    "        )\n",
    "\n",
    "        if t < target_length-1:\n",
    "            # Nuevos inputs en la secuencia\n",
    "            decoder_input = decoder_output.topk(1, 1)[1]\n",
    "            outputs.append(decoder_input)\n",
    "            attn.append(decoder_att)\n",
    "            # Validar elementos del batch que hallan acabado (EOS)\n",
    "            step_eos = decoder_input.data.cpu().numpy() == EN.vocab.stoi['<eos>']\n",
    "            eos_idxs = np.where(step_eos)[0]\n",
    "            for idx in eos_idxs: done.add(idx)\n",
    "        \n",
    "        if len(done) == batch_size:\n",
    "            # Si todo el batch tiene eos terminar\n",
    "            break\n",
    "            \n",
    "    \n",
    "    outputs = torch.cat(outputs, 1).transpose(0, 1).data.cpu().numpy() # output_seq x batch_size\n",
    "    attn = torch.cat(attn, 1).data.cpu().numpy() # batch_size x output_seq x input_seq\n",
    "    \n",
    "    return outputs, attn"
   ]
  },
  {
   "cell_type": "code",
   "execution_count": 11,
   "metadata": {
    "collapsed": true
   },
   "outputs": [],
   "source": [
    "perplexity = lambda x: math.exp(float(x)) if x < 300 else float(\"inf\")\n",
    "\n",
    "def train(epochs, model_name, tf_ratio=1.0, tf_epoch_end=0, results_each=5,\n",
    "          n_examples=3, save_each=5, epoch_batchs_test=10, gradient_clip=5.0):\n",
    "    t0 = time()\n",
    "    results = {}\n",
    "    train_loss = []\n",
    "    test_loss = []\n",
    "    zeros = int(math.log10(epochs)) + 1\n",
    "    \n",
    "    # teacher forcing interpolation\n",
    "    tf = np.zeros(epochs)\n",
    "    tf[:tf_epoch_end] = np.linspace(tf_ratio, 0, tf_epoch_end)\n",
    "    \n",
    "    try:\n",
    "        for i in tnrange(epochs, desc='Training'):\n",
    "            # Entrenar una epoca\n",
    "            l = train_epoch(f'Epoch {i+1:0{zeros}}', epoch_batchs_train,\n",
    "                            tf[i], gradient_clip)\n",
    "            train_loss.append(l)\n",
    "\n",
    "            # Evaluar perdida en el test set (sin teacher forcing)\n",
    "            l = train_epoch(f'Test Loss', epoch_batchs_test,\n",
    "                            0, gradient_clip, data_set='test')\n",
    "            test_loss.append(l)\n",
    "\n",
    "            # Guardar modelo\n",
    "            if (i+1) % save_each == 0:\n",
    "                torch.save(encoder.state_dict(), f'data/{model_name}_encoder.pkl')\n",
    "                torch.save(decoder.state_dict(), f'data/{model_name}_decoder.pkl')\n",
    "\n",
    "            # Mostrar resultados\n",
    "            if (i+1) % results_each == 0:\n",
    "                print('Teacher forcing ratio=%.2f' % tf[i])\n",
    "                print('Train loss=%.5f, perplexity=%.5f' %\n",
    "                      (train_loss[-1], perplexity(train_loss[-1])))\n",
    "                print('Test  loss=%.5f, perplexity=%.5f\\n' %\n",
    "                      (test_loss[-1], perplexity(test_loss[-1])))\n",
    "\n",
    "                # Ejemplos de traduccion\n",
    "                examples = next(train_iter)\n",
    "                examples_es = examples.es[:,:n_examples]\n",
    "                examples_en = examples.en[:,:n_examples].data.cpu().numpy()\n",
    "                predicted, _ = predict(examples_es)\n",
    "                examples_es = examples_es.data.cpu().numpy()\n",
    "                for j in range(n_examples):\n",
    "                    print(' '.join([es_dict[w] for w in examples_es[:, j]]))\n",
    "                    print('Result -> ', ' '.join([en_dict[w] for w in predicted[:, j]]))\n",
    "                    print('Target -> ', ' '.join([en_dict[w] for w in examples_en[:, j]]), '\\n')\n",
    "        \n",
    "            write_training_log(f'data/{model_name}_log.csv', i+1,\n",
    "                               tf[i], train_loss[-1], test_loss[-1])\n",
    "            \n",
    "    except KeyboardInterrupt:\n",
    "        print('Interrupted at epoch: %d' % (i+1))\n",
    "        \n",
    "    results['train_loss'] = train_loss\n",
    "    results['test_loss'] = test_loss\n",
    "        \n",
    "    torch.save(encoder.state_dict(), f'data/{model_name}_encoder.pkl')\n",
    "    torch.save(decoder.state_dict(), f'data/{model_name}_decoder.pkl')\n",
    "    \n",
    "    return results"
   ]
  },
  {
   "cell_type": "markdown",
   "metadata": {},
   "source": [
    "# Definir el modelo"
   ]
  },
  {
   "cell_type": "code",
   "execution_count": 12,
   "metadata": {},
   "outputs": [
    {
     "name": "stdout",
     "output_type": "stream",
     "text": [
      "EncoderRNN (\n",
      "  (embedding): Embedding(10264, 50)\n",
      "  (embedding_dropout): Dropout (p = 0.1)\n",
      "  (lineal): Linear (50 -> 300)\n",
      "  (rnn): GRU(300, 300, num_layers=2, dropout=0.1, bidirectional=True)\n",
      ")\n",
      "AttnDecoderRNN (\n",
      "  (embedding): Embedding(6548, 300)\n",
      "  (embedding_dropout): Dropout (p = 0.1)\n",
      "  (rnn): GRU(300, 300, num_layers=2, dropout=0.1)\n",
      "  (attention): Attention (\n",
      "    (att): Linear (300 -> 300)\n",
      "  )\n",
      "  (concat): Linear (600 -> 300)\n",
      "  (out): Linear (300 -> 6548)\n",
      ")\n"
     ]
    }
   ],
   "source": [
    "model_name = 'seq2seq'\n",
    "encoder_hidden = 300 # Tamaño de los vectores GloVe\n",
    "encoder_bi = True\n",
    "n_layers = 2\n",
    "lr = 8e-4\n",
    "teacher_forcing_epoch_end = 5\n",
    "epochs = 10\n",
    "\n",
    "encoder = EncoderRNN(len(ES.vocab.itos), encoder_hidden, n_layers, bidirectional=encoder_bi).cuda()\n",
    "decoder = AttnDecoderRNN(len(EN.vocab.itos), encoder_hidden, n_layers).cuda()\n",
    "encoder_optimizer = torch.optim.Adam(encoder.parameters(), lr=lr)\n",
    "decoder_optimizer = torch.optim.Adam(decoder.parameters(), lr=lr)\n",
    "encoder_scheduler = StepLR(encoder_optimizer, step_size=200, gamma=0.95)\n",
    "decoder_scheduler = StepLR(decoder_optimizer, step_size=200, gamma=0.95)\n",
    "print(encoder); print(decoder)"
   ]
  },
  {
   "cell_type": "code",
   "execution_count": 13,
   "metadata": {
    "collapsed": true
   },
   "outputs": [],
   "source": [
    "# Cargar pesos\n",
    "encoder.load_state_dict(torch.load(f'data/{model_name}_encoder.pkl'))\n",
    "decoder.load_state_dict(torch.load(f'data/{model_name}_decoder.pkl'))"
   ]
  },
  {
   "cell_type": "markdown",
   "metadata": {},
   "source": [
    "# Entrenamiento"
   ]
  },
  {
   "cell_type": "code",
   "execution_count": 30,
   "metadata": {
    "scrolled": false
   },
   "outputs": [
    {
     "data": {
      "application/vnd.jupyter.widget-view+json": {
       "model_id": "47e8b6c95ba148979cc56ebd515709ee",
       "version_major": 2,
       "version_minor": 0
      },
      "text/plain": [
       "A Jupyter Widget"
      ]
     },
     "metadata": {},
     "output_type": "display_data"
    },
    {
     "data": {
      "application/vnd.jupyter.widget-view+json": {
       "model_id": "6fe584a698cd493d8f23de2ebf6cdca2",
       "version_major": 2,
       "version_minor": 0
      },
      "text/plain": [
       "A Jupyter Widget"
      ]
     },
     "metadata": {},
     "output_type": "display_data"
    },
    {
     "data": {
      "application/vnd.jupyter.widget-view+json": {
       "model_id": "c14f0df3ba5644bda9ee62386b7e74d6",
       "version_major": 2,
       "version_minor": 0
      },
      "text/plain": [
       "A Jupyter Widget"
      ]
     },
     "metadata": {},
     "output_type": "display_data"
    },
    {
     "data": {
      "application/vnd.jupyter.widget-view+json": {
       "model_id": "833daa02e7324e42924d5edaeb3f9d1c",
       "version_major": 2,
       "version_minor": 0
      },
      "text/plain": [
       "A Jupyter Widget"
      ]
     },
     "metadata": {},
     "output_type": "display_data"
    },
    {
     "data": {
      "application/vnd.jupyter.widget-view+json": {
       "model_id": "396c1982660e4dd18f3702af00016b69",
       "version_major": 2,
       "version_minor": 0
      },
      "text/plain": [
       "A Jupyter Widget"
      ]
     },
     "metadata": {},
     "output_type": "display_data"
    },
    {
     "name": "stdout",
     "output_type": "stream",
     "text": [
      "Teacher forcing ratio=0.00\n",
      "Train loss=2.15680, perplexity=8.64346\n",
      "Test  loss=2.03700, perplexity=7.66754\n",
      "\n",
      "el codo es la <unk> entre el brazo y el <unk> . <pad> <pad> <pad>\n",
      "Result ->  <sos> the is is <unk> and the arm and and and <eos> <eos> <pad> <pad> <pad> <pad> <pad> <pad> <pad> <pad> <pad> <pad> <pad>\n",
      "Target ->  <sos> the elbow is the <unk> between the arm and <unk> . <eos> <pad> \n",
      "\n",
      "¿ cuál es la diferencia entre una estrella y un planeta ? <pad> <pad> <pad>\n",
      "Result ->  <sos> what 's the difference between the the a ? <eos> <eos> <pad> <pad> <pad> <pad> <pad> <pad> <pad> <pad> <pad> <pad> <pad> <pad>\n",
      "Target ->  <sos> what 's the difference between a star and a planet ? <eos> <pad> \n",
      "\n",
      "cuando él se retiró , su hijo se ocupó del negocio . <pad> <pad> <pad>\n",
      "Result ->  <sos> when he got the his his the he his the . . . <pad> <pad> <pad> <pad> <pad> <pad> <pad> <pad> <pad> <pad>\n",
      "Target ->  <sos> when he retired , his son took over the business . <eos> <pad> \n",
      "\n"
     ]
    },
    {
     "data": {
      "application/vnd.jupyter.widget-view+json": {
       "model_id": "7d3fd82dd9b142249e10d55bf704bb30",
       "version_major": 2,
       "version_minor": 0
      },
      "text/plain": [
       "A Jupyter Widget"
      ]
     },
     "metadata": {},
     "output_type": "display_data"
    },
    {
     "data": {
      "application/vnd.jupyter.widget-view+json": {
       "model_id": "c24e0676b22749fd83e3406883b9220b",
       "version_major": 2,
       "version_minor": 0
      },
      "text/plain": [
       "A Jupyter Widget"
      ]
     },
     "metadata": {},
     "output_type": "display_data"
    },
    {
     "data": {
      "application/vnd.jupyter.widget-view+json": {
       "model_id": "2b4b2a3db4574f1582f36bf86cd5ecc7",
       "version_major": 2,
       "version_minor": 0
      },
      "text/plain": [
       "A Jupyter Widget"
      ]
     },
     "metadata": {},
     "output_type": "display_data"
    },
    {
     "data": {
      "application/vnd.jupyter.widget-view+json": {
       "model_id": "2378e7c591c34ea98afdb05f03482384",
       "version_major": 2,
       "version_minor": 0
      },
      "text/plain": [
       "A Jupyter Widget"
      ]
     },
     "metadata": {},
     "output_type": "display_data"
    },
    {
     "name": "stdout",
     "output_type": "stream",
     "text": [
      "Teacher forcing ratio=0.00\n",
      "Train loss=2.09768, perplexity=8.14725\n",
      "Test  loss=2.10327, perplexity=8.19295\n",
      "\n",
      "¿ tomaste una decisión ?\n",
      "Result ->  <sos> did you have a decision ? <eos>\n",
      "Target ->  <sos> have you made a decision ? <eos> \n",
      "\n",
      "no <unk> a tom .\n",
      "Result ->  <sos> do n't n't tom . tom <eos>\n",
      "Target ->  <sos> let 's not invite tom . <eos> \n",
      "\n",
      "aprendemos de nuestros errores .\n",
      "Result ->  <sos> we all about of mistakes . <eos>\n",
      "Target ->  <sos> we learn from our mistakes . <eos> \n",
      "\n"
     ]
    },
    {
     "data": {
      "application/vnd.jupyter.widget-view+json": {
       "model_id": "80417212c309494ea3fcb8308fdf4c94",
       "version_major": 2,
       "version_minor": 0
      },
      "text/plain": [
       "A Jupyter Widget"
      ]
     },
     "metadata": {},
     "output_type": "display_data"
    },
    {
     "data": {
      "application/vnd.jupyter.widget-view+json": {
       "model_id": "ddc1d842de0e489aad19206c5bbb5190",
       "version_major": 2,
       "version_minor": 0
      },
      "text/plain": [
       "A Jupyter Widget"
      ]
     },
     "metadata": {},
     "output_type": "display_data"
    },
    {
     "data": {
      "application/vnd.jupyter.widget-view+json": {
       "model_id": "d877f7c88f75433d89154cf15f53b3d4",
       "version_major": 2,
       "version_minor": 0
      },
      "text/plain": [
       "A Jupyter Widget"
      ]
     },
     "metadata": {},
     "output_type": "display_data"
    },
    {
     "data": {
      "application/vnd.jupyter.widget-view+json": {
       "model_id": "71decdfc480b4737babf2f8d652d50d8",
       "version_major": 2,
       "version_minor": 0
      },
      "text/plain": [
       "A Jupyter Widget"
      ]
     },
     "metadata": {},
     "output_type": "display_data"
    },
    {
     "name": "stdout",
     "output_type": "stream",
     "text": [
      "Teacher forcing ratio=0.00\n",
      "Train loss=2.19891, perplexity=9.01515\n",
      "Test  loss=2.12204, perplexity=8.34816\n",
      "\n",
      "los negocios son lentos .\n",
      "Result ->  <sos> the are are . . <eos>\n",
      "Target ->  <sos> business is slow . <eos> <pad> \n",
      "\n",
      "tom finalmente se retiró .\n",
      "Result ->  <sos> tom finally got . . <eos>\n",
      "Target ->  <sos> tom eventually retired . <eos> <pad> \n",
      "\n",
      "ellos pagaron por separado .\n",
      "Result ->  <sos> they paid for . . <eos>\n",
      "Target ->  <sos> they paid separately . <eos> <pad> \n",
      "\n"
     ]
    },
    {
     "data": {
      "application/vnd.jupyter.widget-view+json": {
       "model_id": "59acc8339971461d862131e4cd3211d5",
       "version_major": 2,
       "version_minor": 0
      },
      "text/plain": [
       "A Jupyter Widget"
      ]
     },
     "metadata": {},
     "output_type": "display_data"
    },
    {
     "data": {
      "application/vnd.jupyter.widget-view+json": {
       "model_id": "8bc6681b355641ffba7ac1f7d13229cf",
       "version_major": 2,
       "version_minor": 0
      },
      "text/plain": [
       "A Jupyter Widget"
      ]
     },
     "metadata": {},
     "output_type": "display_data"
    },
    {
     "data": {
      "application/vnd.jupyter.widget-view+json": {
       "model_id": "a90b02639f6a4be597dce94b5b7da0b7",
       "version_major": 2,
       "version_minor": 0
      },
      "text/plain": [
       "A Jupyter Widget"
      ]
     },
     "metadata": {},
     "output_type": "display_data"
    },
    {
     "data": {
      "application/vnd.jupyter.widget-view+json": {
       "model_id": "d2404baf71ad47cea9abba9277e53b73",
       "version_major": 2,
       "version_minor": 0
      },
      "text/plain": [
       "A Jupyter Widget"
      ]
     },
     "metadata": {},
     "output_type": "display_data"
    },
    {
     "name": "stdout",
     "output_type": "stream",
     "text": [
      "Teacher forcing ratio=0.00\n",
      "Train loss=1.92979, perplexity=6.88807\n",
      "Test  loss=2.34935, perplexity=10.47875\n",
      "\n",
      "estás olvidando algo muy importante . <pad>\n",
      "Result ->  <sos> you 're forgetting something something important . . <eos> <eos> <eos>\n",
      "Target ->  <sos> you 're forgetting one very important thing . <eos> <pad> \n",
      "\n",
      "he oído que no vienes . <pad>\n",
      "Result ->  <sos> i 've heard you n't go go . . <eos> <eos>\n",
      "Target ->  <sos> i heard that you 're not coming . <eos> <pad> \n",
      "\n",
      "necesito saber qué significa esto . <pad>\n",
      "Result ->  <sos> i need to know what what means means . . <eos>\n",
      "Target ->  <sos> i need to know what this means . <eos> <pad> \n",
      "\n"
     ]
    },
    {
     "data": {
      "application/vnd.jupyter.widget-view+json": {
       "model_id": "d9f8871ec5bb45a3b4e4f55e4101e97c",
       "version_major": 2,
       "version_minor": 0
      },
      "text/plain": [
       "A Jupyter Widget"
      ]
     },
     "metadata": {},
     "output_type": "display_data"
    },
    {
     "data": {
      "application/vnd.jupyter.widget-view+json": {
       "model_id": "89a1dafab4154b8ea7d573c685a5bbd3",
       "version_major": 2,
       "version_minor": 0
      },
      "text/plain": [
       "A Jupyter Widget"
      ]
     },
     "metadata": {},
     "output_type": "display_data"
    },
    {
     "data": {
      "application/vnd.jupyter.widget-view+json": {
       "model_id": "df801c01d96642fbabb9be76edf5dc70",
       "version_major": 2,
       "version_minor": 0
      },
      "text/plain": [
       "A Jupyter Widget"
      ]
     },
     "metadata": {},
     "output_type": "display_data"
    },
    {
     "data": {
      "application/vnd.jupyter.widget-view+json": {
       "model_id": "21cd3829b5ef4a03bf84f8a1e947226e",
       "version_major": 2,
       "version_minor": 0
      },
      "text/plain": [
       "A Jupyter Widget"
      ]
     },
     "metadata": {},
     "output_type": "display_data"
    },
    {
     "name": "stdout",
     "output_type": "stream",
     "text": [
      "Teacher forcing ratio=0.00\n",
      "Train loss=2.09515, perplexity=8.12667\n",
      "Test  loss=1.91204, perplexity=6.76690\n",
      "\n",
      "¿ qué harías si tuvieras diez años menos ? <pad>\n",
      "Result ->  <sos> what do you do you to be ten ? ? <eos> <eos> <eos> <pad> <pad> <pad> <pad> <pad>\n",
      "Target ->  <sos> what would you do if you were ten years younger ? <eos> \n",
      "\n",
      "<unk> de que tenemos todo lo que necesitamos . <pad>\n",
      "Result ->  <sos> we we 've we we we we we we we we we we we we we we we\n",
      "Target ->  <sos> let 's make sure we 've got everything we need . <eos> \n",
      "\n",
      "hay un poquito de agua en el vaso . <pad>\n",
      "Result ->  <sos> there 's a little of water the the glass . . <eos> <eos> <pad> <pad> <pad> <pad> <pad>\n",
      "Target ->  <sos> there 's a little bit of water in the glass . <eos> \n",
      "\n",
      "\n"
     ]
    }
   ],
   "source": [
    "# results = train(epochs, model_name, tf_epoch_end=teacher_forcing_epoch_end, save_each=1, results_each=2)"
   ]
  },
  {
   "cell_type": "code",
   "execution_count": 45,
   "metadata": {},
   "outputs": [
    {
     "name": "stdout",
     "output_type": "stream",
     "text": [
      "Final learing rate: 0.000103\n"
     ]
    }
   ],
   "source": [
    "print('Final learing rate: %.6f' % encoder_scheduler.get_lr()[0])"
   ]
  },
  {
   "cell_type": "code",
   "execution_count": 51,
   "metadata": {},
   "outputs": [
    {
     "data": {
      "image/png": "[encoded data removed]",
      "text/plain": [
       "<matplotlib.figure.Figure at 0x7f943d998f28>"
      ]
     },
     "metadata": {},
     "output_type": "display_data"
    }
   ],
   "source": [
    "fig, ax = plt.subplots(1,2)\n",
    "log = pd.read_csv('data/seq2seq_log.csv')\n",
    "log.plot(y=['train_loss', 'test_loss'], figsize=(14,4), ax=ax[0])\n",
    "loss = pd.read_csv('data/seq2seq_loss.csv')\n",
    "loss.plot(ax=ax[1]);"
   ]
  },
  {
   "cell_type": "markdown",
   "metadata": {},
   "source": [
    "# Check loss on full test & validation"
   ]
  },
  {
   "cell_type": "code",
   "execution_count": 92,
   "metadata": {},
   "outputs": [
    {
     "data": {
      "text/plain": [
       "(45, 45)"
      ]
     },
     "execution_count": 92,
     "metadata": {},
     "output_type": "execute_result"
    }
   ],
   "source": [
    "test_buckets = data.BucketIterator(ds_test, batch_size,\n",
    "    sort_key=lambda x: data.interleave_keys(len(x.es), len(x.en)))\n",
    "val_buckets = data.BucketIterator(ds_val, batch_size,\n",
    "    sort_key=lambda x: data.interleave_keys(len(x.es), len(x.en)))\n",
    "train_iter = iter(train_buckets)\n",
    "test_iter = iter(test_buckets)\n",
    "val_iter = iter(val_buckets)\n",
    "epoch_batchs_test = math.ceil(len(test_buckets.dataset.examples) / test_buckets.batch_size)\n",
    "epoch_batchs_val = math.ceil(len(val_buckets.dataset.examples) / val_buckets.batch_size)\n",
    "epoch_batchs_test, epoch_batchs_val"
   ]
  },
  {
   "cell_type": "code",
   "execution_count": 97,
   "metadata": {},
   "outputs": [
    {
     "name": "stdout",
     "output_type": "stream",
     "text": [
      "Final test loss=2.18169, perplexity=8.86131\n",
      "Final validation loss=2.21232, perplexity=9.13686\n"
     ]
    }
   ],
   "source": [
    "final_test_loss = train_epoch('Test set', epoch_batchs_test, 0, data_set='test')\n",
    "final_val_loss = train_epoch('Validation set', epoch_batchs_val, 0, data_set='validation')\n",
    "print('Final test loss=%.5f, perplexity=%.5f' % (final_test_loss, perplexity(final_test_loss)))\n",
    "print('Final validation loss=%.5f, perplexity=%.5f' % (final_val_loss, perplexity(final_val_loss)))"
   ]
  },
  {
   "cell_type": "markdown",
   "metadata": {},
   "source": [
    "# Beam Search"
   ]
  },
  {
   "cell_type": "code",
   "execution_count": 52,
   "metadata": {
    "collapsed": true
   },
   "outputs": [],
   "source": [
    "def predict_beamsearch(input_word, encode=False, beams=3, max_target_length=train_max_length):\n",
    "    if encode:\n",
    "        input_word = [ES.vocab.stoi[t] for t in ES.tokenize(input_word)]\n",
    "        input_word = Variable(torch.LongTensor(input_word).unsqueeze(1)).cuda()\n",
    "    \n",
    "    route = []\n",
    "    input_length, v = input_word.size()\n",
    "    assert v == 1, 'Only 1 word atm'\n",
    "    \n",
    "    target_length = min(train_max_length, input_length*2)\n",
    "    encoder_outputs, encoder_hidden = encoder(input_word, None)\n",
    "    decoder_input = Variable(torch.LongTensor([SOS_token])).cuda()\n",
    "    decoder_hidden = encoder_hidden[-decoder.n_layers:]\n",
    "    outputs = decoder_input.repeat(beams,1)\n",
    "    eos_check = torch.LongTensor([EOS_token] * batch_size).cuda()\n",
    "\n",
    "    scores, decoder_input, decoder_hidden, attn, keep = get_beam(\n",
    "        decoder_input, decoder_hidden, encoder_outputs, beams, None, True)\n",
    "    route.append(keep)\n",
    "    \n",
    "    for t in range(target_length-1):\n",
    "        scores, decoder_input, decoder_hidden, att, keep = get_beam(\n",
    "            decoder_input, decoder_hidden, encoder_outputs, beams, scores)\n",
    "        route.append(keep.data.tolist())\n",
    "        attn = torch.cat([attn[keep/beams],att],1)\n",
    "        outputs = torch.cat([outputs[keep/beams],decoder_input.unsqueeze(1)],1)\n",
    "        if torch.sum(torch.sum(outputs == 3, 1) > 0).data[0] == beams: break\n",
    "        \n",
    "    outputs = outputs.data.cpu().numpy()\n",
    "    attn = attn.data.cpu().numpy()\n",
    "    scores = scores.data.tolist()\n",
    "    route = np.array(route).transpose()\n",
    "    \n",
    "    return outputs, attn, scores, route\n",
    "\n",
    "def get_beam(decoder_input, decoder_hidden, encoder_outputs,\n",
    "             beams, p_scores, first=False):\n",
    "    if not first:\n",
    "        encoder_outputs = encoder_outputs.repeat(1,beams,1)\n",
    "    \n",
    "    decoder_output, decoder_hidden, decoder_att = decoder(\n",
    "        decoder_input, decoder_hidden, encoder_outputs\n",
    "    )\n",
    "    scores, decoder_input = decoder_output.topk(beams, 1)\n",
    "    \n",
    "    if first:\n",
    "        decoder_hidden = decoder_hidden.repeat(1,beams,1)\n",
    "        decoder_att = decoder_att.repeat(beams,1,1)\n",
    "        keep = [0]*beams\n",
    "    else:\n",
    "        # manter los top beam resultados\n",
    "        scores = scores + p_scores.unsqueeze(1)\n",
    "        scores, keep = scores.view(-1).topk(beams)\n",
    "        decoder_att = decoder_att[keep/beams]\n",
    "        decoder_hidden = decoder_hidden[:,(keep/beams).data.tolist(),:]\n",
    "        decoder_input = decoder_input.view(-1)[keep]\n",
    "        \n",
    "    scores = scores.view(-1)\n",
    "    decoder_input = decoder_input.view(-1)\n",
    "    \n",
    "    return scores, decoder_input, decoder_hidden, decoder_att, keep"
   ]
  },
  {
   "cell_type": "markdown",
   "metadata": {},
   "source": [
    "## Beam test"
   ]
  },
  {
   "cell_type": "code",
   "execution_count": 98,
   "metadata": {
    "collapsed": true
   },
   "outputs": [],
   "source": [
    "val_buckets = data.BucketIterator(ds_val, 1,\n",
    "    sort_key=lambda x: data.interleave_keys(len(x.es), len(x.en)))\n",
    "val_iter = iter(val_buckets)"
   ]
  },
  {
   "cell_type": "code",
   "execution_count": 100,
   "metadata": {},
   "outputs": [
    {
     "name": "stdout",
     "output_type": "stream",
     "text": [
      "Beam 1 (131.98):\n",
      "Source: es un pequeño resfriado .\n",
      "Target: <sos> it is a little cold . <eos>\n",
      "Result: <sos> it 's a small cold . <eos> <eos>\n",
      "\n",
      "Beam 2 (131.49):\n",
      "Source: es un pequeño resfriado .\n",
      "Target: <sos> it is a little cold . <eos>\n",
      "Result: <sos> it 's a very cold . <eos> <eos>\n",
      "\n",
      "Beam 3 (131.43):\n",
      "Source: es un pequeño resfriado .\n",
      "Target: <sos> it is a little cold . <eos>\n",
      "Result: <sos> it 's a small cold . . <eos>\n",
      "\n",
      "Beam 4 (131.29):\n",
      "Source: es un pequeño resfriado .\n",
      "Target: <sos> it is a little cold . <eos>\n",
      "Result: <sos> it is a small cold . <eos> <eos>\n",
      "\n",
      "Beam 5 (131.24):\n",
      "Source: es un pequeño resfriado .\n",
      "Target: <sos> it is a little cold . <eos>\n",
      "Result: <sos> it 's a a cold . <eos> <eos>\n",
      "\n"
     ]
    }
   ],
   "source": [
    "example = next(val_iter)\n",
    "example_es = example.es\n",
    "example_en = example.en.data.cpu().numpy()\n",
    "outputs, attn, scores, _ = predict_beamsearch(example_es, beams=5)\n",
    "example_es = example_es.data.cpu().numpy()\n",
    "ex = [es_dict[w] for w in example_es[:, 0]]\n",
    "ex_target = [en_dict[w] for w in example_en[:, 0]]\n",
    "\n",
    "for i, (o, s) in enumerate(zip(outputs, scores)):\n",
    "    print('Beam %d (%.2f):' % (i+1, s))\n",
    "    ex_result = [en_dict[w] for w in o]\n",
    "    print('Source:', ' '.join(ex))\n",
    "    print('Target:', ' '.join(ex_target))\n",
    "    print('Result:', ' '.join(ex_result))\n",
    "    print()"
   ]
  },
  {
   "cell_type": "markdown",
   "metadata": {},
   "source": [
    "# Ver resultados"
   ]
  },
  {
   "cell_type": "code",
   "execution_count": 62,
   "metadata": {},
   "outputs": [
    {
     "name": "stdout",
     "output_type": "stream",
     "text": [
      "Source: vuelve a ponerlo sobre el escritorio .\n",
      "Target: <sos> put it back on the desk . <eos>\n",
      "Result: <sos> let 's get to in the desk desk <eos> <eos>\n"
     ]
    },
    {
     "data": {
      "image/png": "[encoded data removed]",
      "text/plain": [
       "<matplotlib.figure.Figure at 0x7f940b4124e0>"
      ]
     },
     "metadata": {},
     "output_type": "display_data"
    },
    {
     "name": "stdout",
     "output_type": "stream",
     "text": [
      "Source: tom no veía nada .\n",
      "Target: <sos> tom could see nothing . <eos>\n",
      "Result: <sos> tom did n't cry anything anything <eos> <eos>\n"
     ]
    },
    {
     "data": {
      "image/png": "[encoded data removed]",
      "text/plain": [
       "<matplotlib.figure.Figure at 0x7f940ef6b320>"
      ]
     },
     "metadata": {},
     "output_type": "display_data"
    },
    {
     "name": "stdout",
     "output_type": "stream",
     "text": [
      "Source: él será un buen marido .\n",
      "Target: <sos> he 'll be a good husband . <eos>\n",
      "Result: <sos> he will be a good husband . <eos> <eos>\n"
     ]
    },
    {
     "data": {
      "image/png": "[encoded data removed]",
      "text/plain": [
       "<matplotlib.figure.Figure at 0x7f943e872390>"
      ]
     },
     "metadata": {},
     "output_type": "display_data"
    }
   ],
   "source": [
    "beams = 5\n",
    "examples = 3\n",
    "\n",
    "for _ in range(examples):\n",
    "    example = next(val_iter)\n",
    "    example_es = example.es\n",
    "    example_en = example.en.data.cpu().numpy()\n",
    "    outputs, attn, *_ = predict_beamsearch(example_es, beams=5)\n",
    "    example_es = example_es.data.cpu().numpy()\n",
    "    ex = [es_dict[w] for w in example_es[:, 0]]\n",
    "    ex_target = [en_dict[w] for w in example_en[:, 0]]\n",
    "    ex_result = [en_dict[w] for w in outputs[0]]\n",
    "    print('Source:', ' '.join(ex))\n",
    "    print('Target:', ' '.join(ex_target))\n",
    "    print('Result:', ' '.join(ex_result))\n",
    "    show_attn(attn[0], ex, ex_result)"
   ]
  },
  {
   "cell_type": "markdown",
   "metadata": {},
   "source": [
    "# Probar"
   ]
  },
  {
   "cell_type": "code",
   "execution_count": 90,
   "metadata": {},
   "outputs": [
    {
     "name": "stdout",
     "output_type": "stream",
     "text": [
      "Source: ¿qué hora es?\n",
      "Result: <sos> what time is it ? <eos> <eos>\n"
     ]
    },
    {
     "data": {
      "image/png": "[encoded data removed]",
      "text/plain": [
       "<matplotlib.figure.Figure at 0x7f94151f2c88>"
      ]
     },
     "metadata": {},
     "output_type": "display_data"
    }
   ],
   "source": [
    "sentence = '¿qué hora es?'\n",
    "outputs, attn, *_ = predict_beamsearch(sentence, beams=5, encode=True)\n",
    "ex_result = [en_dict[w] for w in outputs[0]]\n",
    "print('Source:', sentence)\n",
    "print('Result:', ' '.join(ex_result))\n",
    "show_attn(attn[0], ES.tokenize(sentence), ex_result)"
   ]
  }
 ],
 "metadata": {
  "kernelspec": {
   "display_name": "Python 3",
   "language": "python",
   "name": "python3"
  },
  "language_info": {
   "codemirror_mode": {
    "name": "ipython",
    "version": 3
   },
   "file_extension": ".py",
   "mimetype": "text/x-python",
   "name": "python",
   "nbconvert_exporter": "python",
   "pygments_lexer": "ipython3",
   "version": "3.6.3"
  }
 },
 "nbformat": 4,
 "nbformat_minor": 2
}
